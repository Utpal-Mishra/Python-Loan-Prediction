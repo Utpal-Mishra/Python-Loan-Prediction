{
  "nbformat": 4,
  "nbformat_minor": 0,
  "metadata": {
    "colab": {
      "name": "AVHLoanPredictionCrossV.ipynb",
      "provenance": [],
      "collapsed_sections": [
        "qYpUbv4CyOu8",
        "y91jBSk0B0OK",
        "JbhmQ61-FA1-",
        "Ks43SbQdy4PG",
        "Inug8vuI9hcr",
        "rNtvmy2h9KiP",
        "93iwC-St_QKg",
        "YRlbno5P9hdm",
        "ArN_lqoNpCDB",
        "8HqC8d2vpPMF",
        "QrMqsIyMd_gi",
        "-CcI353upKsy",
        "AYAqmoHTpShi",
        "QAOfVTW9pRiK"
      ],
      "mount_file_id": "1qrqGvtw7q2n9KAsxJJsynyOQQJFyub0S",
      "authorship_tag": "ABX9TyPB1JvLoB+XHLPrJtjaZRQp",
      "include_colab_link": true
    },
    "kernelspec": {
      "name": "python3",
      "display_name": "Python 3"
    }
  },
  "cells": [
    {
      "cell_type": "markdown",
      "metadata": {
        "id": "view-in-github",
        "colab_type": "text"
      },
      "source": [
        "<a href=\"https://colab.research.google.com/github/Utpal-Mishra/Python-Loan-Prediction/blob/main/AVHLoanPredictionCrossV.ipynb\" target=\"_parent\"><img src=\"https://colab.research.google.com/assets/colab-badge.svg\" alt=\"Open In Colab\"/></a>"
      ]
    },
    {
      "cell_type": "code",
      "metadata": {
        "id": "MtbF_CYR92R1"
      },
      "source": [
        ""
      ],
      "execution_count": null,
      "outputs": []
    },
    {
      "cell_type": "markdown",
      "metadata": {
        "id": "Ks43SbQdy4PG"
      },
      "source": [
        "#INSTALLING PACKAGES"
      ]
    },
    {
      "cell_type": "code",
      "metadata": {
        "id": "opX7tM8zvePJ",
        "colab": {
          "base_uri": "https://localhost:8080/",
          "height": 1000
        },
        "outputId": "cf361774-dfef-4dc3-ded9-858b990a6a52"
      },
      "source": [
        "!pip install --upgrade keras\n",
        "!pip install -q tensorflow==2.0beta1\n",
        "!pip install catboost\n",
        "!pip install \n",
        "!pip help install\n",
        "!pip install imblearn"
      ],
      "execution_count": null,
      "outputs": [
        {
          "output_type": "stream",
          "text": [
            "Requirement already up-to-date: keras in /usr/local/lib/python3.6/dist-packages (2.3.1)\n",
            "Requirement already satisfied, skipping upgrade: scipy>=0.14 in /usr/local/lib/python3.6/dist-packages (from keras) (1.4.1)\n",
            "Requirement already satisfied, skipping upgrade: keras-preprocessing>=1.0.5 in /usr/local/lib/python3.6/dist-packages (from keras) (1.1.2)\n",
            "Requirement already satisfied, skipping upgrade: pyyaml in /usr/local/lib/python3.6/dist-packages (from keras) (3.13)\n",
            "Requirement already satisfied, skipping upgrade: numpy>=1.9.1 in /usr/local/lib/python3.6/dist-packages (from keras) (1.18.5)\n",
            "Requirement already satisfied, skipping upgrade: six>=1.9.0 in /usr/local/lib/python3.6/dist-packages (from keras) (1.12.0)\n",
            "Requirement already satisfied, skipping upgrade: h5py in /usr/local/lib/python3.6/dist-packages (from keras) (2.10.0)\n",
            "Requirement already satisfied, skipping upgrade: keras-applications>=1.0.6 in /usr/local/lib/python3.6/dist-packages (from keras) (1.0.8)\n",
            "\u001b[K     |████████████████████████████████| 87.9MB 64kB/s \n",
            "\u001b[K     |████████████████████████████████| 3.1MB 49.0MB/s \n",
            "\u001b[K     |████████████████████████████████| 501kB 52.8MB/s \n",
            "\u001b[?25hCollecting catboost\n",
            "\u001b[?25l  Downloading https://files.pythonhosted.org/packages/b2/aa/e61819d04ef2bbee778bf4b3a748db1f3ad23512377e43ecfdc3211437a0/catboost-0.23.2-cp36-none-manylinux1_x86_64.whl (64.8MB)\n",
            "\u001b[K     |████████████████████████████████| 64.8MB 61kB/s \n",
            "\u001b[?25hRequirement already satisfied: pandas>=0.24.0 in /usr/local/lib/python3.6/dist-packages (from catboost) (1.0.4)\n",
            "Requirement already satisfied: scipy in /usr/local/lib/python3.6/dist-packages (from catboost) (1.4.1)\n",
            "Requirement already satisfied: plotly in /usr/local/lib/python3.6/dist-packages (from catboost) (4.4.1)\n",
            "Requirement already satisfied: six in /usr/local/lib/python3.6/dist-packages (from catboost) (1.12.0)\n",
            "Requirement already satisfied: numpy>=1.16.0 in /usr/local/lib/python3.6/dist-packages (from catboost) (1.18.5)\n",
            "Requirement already satisfied: matplotlib in /usr/local/lib/python3.6/dist-packages (from catboost) (3.2.1)\n",
            "Requirement already satisfied: graphviz in /usr/local/lib/python3.6/dist-packages (from catboost) (0.10.1)\n",
            "Requirement already satisfied: pytz>=2017.2 in /usr/local/lib/python3.6/dist-packages (from pandas>=0.24.0->catboost) (2018.9)\n",
            "Requirement already satisfied: python-dateutil>=2.6.1 in /usr/local/lib/python3.6/dist-packages (from pandas>=0.24.0->catboost) (2.8.1)\n",
            "Requirement already satisfied: retrying>=1.3.3 in /usr/local/lib/python3.6/dist-packages (from plotly->catboost) (1.3.3)\n",
            "Requirement already satisfied: cycler>=0.10 in /usr/local/lib/python3.6/dist-packages (from matplotlib->catboost) (0.10.0)\n",
            "Requirement already satisfied: kiwisolver>=1.0.1 in /usr/local/lib/python3.6/dist-packages (from matplotlib->catboost) (1.2.0)\n",
            "Requirement already satisfied: pyparsing!=2.0.4,!=2.1.2,!=2.1.6,>=2.0.1 in /usr/local/lib/python3.6/dist-packages (from matplotlib->catboost) (2.4.7)\n",
            "Installing collected packages: catboost\n",
            "Successfully installed catboost-0.23.2\n",
            "\u001b[31mERROR: You must give at least one requirement to install (see \"pip help install\")\u001b[0m\n",
            "\n",
            "Usage:   \n",
            "  pip3 install [options] <requirement specifier> [package-index-options] ...\n",
            "  pip3 install [options] -r <requirements file> [package-index-options] ...\n",
            "  pip3 install [options] [-e] <vcs project url> ...\n",
            "  pip3 install [options] [-e] <local project path> ...\n",
            "  pip3 install [options] <archive url/path> ...\n",
            "\n",
            "Description:\n",
            "  Install packages from:\n",
            "  \n",
            "  - PyPI (and other indexes) using requirement specifiers.\n",
            "  - VCS project urls.\n",
            "  - Local project directories.\n",
            "  - Local or remote source archives.\n",
            "  \n",
            "  pip also supports installing from \"requirements files\", which provide\n",
            "  an easy way to specify a whole environment to be installed.\n",
            "\n",
            "Install Options:\n",
            "  -r, --requirement <file>\n",
            "  Install\n",
            "  from the\n",
            "  given requi\n",
            "  rements\n",
            "  file. This\n",
            "  option can\n",
            "  be used\n",
            "  multiple\n",
            "  times.\n",
            "  -c, --constraint <file>\n",
            "  Constrain\n",
            "  versions\n",
            "  using the\n",
            "  given\n",
            "  constraints\n",
            "  file. This\n",
            "  option can\n",
            "  be used\n",
            "  multiple\n",
            "  times.\n",
            "  --no-deps\n",
            "  Don't\n",
            "  install\n",
            "  package dep\n",
            "  endencies.\n",
            "  --pre\n",
            "  Include\n",
            "  pre-release\n",
            "  and\n",
            "  development\n",
            "  versions.\n",
            "  By default,\n",
            "  pip only\n",
            "  finds\n",
            "  stable\n",
            "  versions.\n",
            "  -e, --editable <path/url>\n",
            "  Install a\n",
            "  project in\n",
            "  editable\n",
            "  mode (i.e.\n",
            "  setuptools\n",
            "  \"develop\n",
            "  mode\") from\n",
            "  a local\n",
            "  project\n",
            "  path or a\n",
            "  VCS url.\n",
            "  -t, --target <dir>\n",
            "  Install\n",
            "  packages\n",
            "  into <dir>.\n",
            "  By default\n",
            "  this will\n",
            "  not replace\n",
            "  existing fi\n",
            "  les/folders\n",
            "  in <dir>.\n",
            "  Use\n",
            "  --upgrade\n",
            "  to replace\n",
            "  existing\n",
            "  packages in\n",
            "  <dir> with\n",
            "  new\n",
            "  versions.\n",
            "  --platform <platform>\n",
            "  Only use\n",
            "  wheels\n",
            "  compatible\n",
            "  with\n",
            "  <platform>.\n",
            "  Defaults to\n",
            "  the\n",
            "  platform of\n",
            "  the running\n",
            "  system.\n",
            "  --python-version <python_version>\n",
            "  The Python\n",
            "  interpreter\n",
            "  version to\n",
            "  use for\n",
            "  wheel and\n",
            "  \"Requires-\n",
            "  Python\" com\n",
            "  patibility\n",
            "  checks.\n",
            "  Defaults to\n",
            "  a version\n",
            "  derived\n",
            "  from the\n",
            "  running int\n",
            "  erpreter.\n",
            "  The version\n",
            "  can be\n",
            "  specified\n",
            "  using up to\n",
            "  three dot-\n",
            "  separated\n",
            "  integers\n",
            "  (e.g. \"3\"\n",
            "  for 3.0.0,\n",
            "  \"3.7\" for\n",
            "  3.7.0, or\n",
            "  \"3.7.3\"). A\n",
            "  major-minor\n",
            "  version can\n",
            "  also be\n",
            "  given as a\n",
            "  string\n",
            "  without\n",
            "  dots (e.g.\n",
            "  \"37\" for\n",
            "  3.7.0).\n",
            "  --implementation <implementation>\n",
            "  Only use\n",
            "  wheels\n",
            "  compatible\n",
            "  with Python\n",
            "  implementat\n",
            "  ion <implem\n",
            "  entation>,\n",
            "  e.g. 'pp',\n",
            "  'jy', 'cp',\n",
            "  or 'ip'. If\n",
            "  not\n",
            "  specified,\n",
            "  then the\n",
            "  current\n",
            "  interpreter\n",
            "  implementat\n",
            "  ion is\n",
            "  used.  Use\n",
            "  'py' to\n",
            "  force imple\n",
            "  mentation-\n",
            "  agnostic\n",
            "  wheels.\n",
            "  --abi <abi>\n",
            "  Only use\n",
            "  wheels\n",
            "  compatible\n",
            "  with Python\n",
            "  abi <abi>,\n",
            "  e.g.\n",
            "  'pypy_41'.\n",
            "  If not\n",
            "  specified,\n",
            "  then the\n",
            "  current\n",
            "  interpreter\n",
            "  abi tag is\n",
            "  used.\n",
            "  Generally\n",
            "  you will\n",
            "  need to\n",
            "  specify --i\n",
            "  mplementati\n",
            "  on,\n",
            "  --platform,\n",
            "  and\n",
            "  --python-\n",
            "  version\n",
            "  when using\n",
            "  this\n",
            "  option.\n",
            "  --user\n",
            "  Install to\n",
            "  the Python\n",
            "  user\n",
            "  install\n",
            "  directory\n",
            "  for your\n",
            "  platform.\n",
            "  Typically\n",
            "  ~/.local/,\n",
            "  or %APPDATA\n",
            "  %\\Python on\n",
            "  Windows.\n",
            "  (See the\n",
            "  Python docu\n",
            "  mentation\n",
            "  for site.US\n",
            "  ER_BASE for\n",
            "  full\n",
            "  details.)\n",
            "  --root <dir>\n",
            "  Install\n",
            "  everything\n",
            "  relative to\n",
            "  this\n",
            "  alternate\n",
            "  root\n",
            "  directory.\n",
            "  --prefix <dir>\n",
            "  Installatio\n",
            "  n prefix\n",
            "  where lib,\n",
            "  bin and\n",
            "  other top-\n",
            "  level\n",
            "  folders are\n",
            "  placed\n",
            "  -b, --build <dir>\n",
            "  Directory\n",
            "  to unpack\n",
            "  packages\n",
            "  into and\n",
            "  build in.\n",
            "  Note that\n",
            "  an initial\n",
            "  build still\n",
            "  takes place\n",
            "  in a\n",
            "  temporary\n",
            "  directory.\n",
            "  The\n",
            "  location of\n",
            "  temporary\n",
            "  directories\n",
            "  can be\n",
            "  controlled\n",
            "  by setting\n",
            "  the TMPDIR\n",
            "  environment\n",
            "  variable\n",
            "  (TEMP on\n",
            "  Windows) ap\n",
            "  propriately\n",
            "  . When\n",
            "  passed,\n",
            "  build\n",
            "  directories\n",
            "  are not\n",
            "  cleaned in\n",
            "  case of\n",
            "  failures.\n",
            "  --src <dir>\n",
            "  Directory\n",
            "  to check\n",
            "  out\n",
            "  editable\n",
            "  projects\n",
            "  into. The\n",
            "  default in\n",
            "  a\n",
            "  virtualenv\n",
            "  is \"<venv\n",
            "  path>/src\".\n",
            "  The default\n",
            "  for global\n",
            "  installs is\n",
            "  \"<current\n",
            "  dir>/src\".\n",
            "  -U, --upgrade\n",
            "  Upgrade all\n",
            "  specified\n",
            "  packages to\n",
            "  the newest\n",
            "  available\n",
            "  version.\n",
            "  The\n",
            "  handling of\n",
            "  dependencie\n",
            "  s depends\n",
            "  on the\n",
            "  upgrade-\n",
            "  strategy\n",
            "  used.\n",
            "  --upgrade-strategy <upgrade_strategy>\n",
            "  Determines\n",
            "  how\n",
            "  dependency\n",
            "  upgrading\n",
            "  should be\n",
            "  handled\n",
            "  [default:\n",
            "  only-if-\n",
            "  needed].\n",
            "  \"eager\" - d\n",
            "  ependencies\n",
            "  are\n",
            "  upgraded\n",
            "  regardless\n",
            "  of whether\n",
            "  the\n",
            "  currently\n",
            "  installed\n",
            "  version\n",
            "  satisfies\n",
            "  the require\n",
            "  ments of\n",
            "  the\n",
            "  upgraded\n",
            "  package(s).\n",
            "  \"only-if-\n",
            "  needed\" -\n",
            "  are\n",
            "  upgraded\n",
            "  only when\n",
            "  they do not\n",
            "  satisfy the\n",
            "  requirement\n",
            "  s of the\n",
            "  upgraded\n",
            "  package(s).\n",
            "  --force-reinstall\n",
            "  Reinstall\n",
            "  all\n",
            "  packages\n",
            "  even if\n",
            "  they are\n",
            "  already up-\n",
            "  to-date.\n",
            "  -I, --ignore-installed\n",
            "  Ignore the\n",
            "  installed\n",
            "  packages,\n",
            "  overwriting\n",
            "  them. This\n",
            "  can break\n",
            "  your system\n",
            "  if the\n",
            "  existing\n",
            "  package is\n",
            "  of a\n",
            "  different\n",
            "  version or\n",
            "  was\n",
            "  installed\n",
            "  with a\n",
            "  different\n",
            "  package\n",
            "  manager!\n",
            "  --ignore-requires-python\n",
            "  Ignore the\n",
            "  Requires-\n",
            "  Python info\n",
            "  rmation.\n",
            "  --no-build-isolation\n",
            "  Disable\n",
            "  isolation\n",
            "  when\n",
            "  building a\n",
            "  modern\n",
            "  source dist\n",
            "  ribution.\n",
            "  Build depen\n",
            "  dencies\n",
            "  specified\n",
            "  by PEP 518\n",
            "  must be\n",
            "  already\n",
            "  installed\n",
            "  if this\n",
            "  option is\n",
            "  used.\n",
            "  --use-pep517\n",
            "  Use PEP 517\n",
            "  for\n",
            "  building\n",
            "  source dist\n",
            "  ributions\n",
            "  (use --no-\n",
            "  use-pep517\n",
            "  to force\n",
            "  legacy\n",
            "  behaviour).\n",
            "  --install-option <options>\n",
            "  Extra\n",
            "  arguments\n",
            "  to be\n",
            "  supplied to\n",
            "  the\n",
            "  setup.py\n",
            "  install\n",
            "  command\n",
            "  (use like\n",
            "  --install-\n",
            "  option=\"--\n",
            "  install-scr\n",
            "  ipts=/usr/l\n",
            "  ocal/bin\").\n",
            "  Use\n",
            "  multiple\n",
            "  --install-\n",
            "  option\n",
            "  options to\n",
            "  pass\n",
            "  multiple\n",
            "  options to\n",
            "  setup.py\n",
            "  install. If\n",
            "  you are\n",
            "  using an\n",
            "  option with\n",
            "  a directory\n",
            "  path, be\n",
            "  sure to use\n",
            "  absolute\n",
            "  path.\n",
            "  --global-option <options>\n",
            "  Extra\n",
            "  global\n",
            "  options to\n",
            "  be supplied\n",
            "  to the\n",
            "  setup.py\n",
            "  call before\n",
            "  the install\n",
            "  command.\n",
            "  --compile\n",
            "  Compile\n",
            "  Python\n",
            "  source\n",
            "  files to\n",
            "  bytecode\n",
            "  --no-compile\n",
            "  Do not\n",
            "  compile\n",
            "  Python\n",
            "  source\n",
            "  files to\n",
            "  bytecode\n",
            "  --no-warn-script-location\n",
            "  Do not warn\n",
            "  when\n",
            "  installing\n",
            "  scripts\n",
            "  outside\n",
            "  PATH\n",
            "  --no-warn-conflicts\n",
            "  Do not warn\n",
            "  about\n",
            "  broken depe\n",
            "  ndencies\n",
            "  --no-binary <format_control>\n",
            "  Do not use\n",
            "  binary\n",
            "  packages.\n",
            "  Can be\n",
            "  supplied\n",
            "  multiple\n",
            "  times, and\n",
            "  each time\n",
            "  adds to the\n",
            "  existing\n",
            "  value.\n",
            "  Accepts\n",
            "  either\n",
            "  :all: to\n",
            "  disable all\n",
            "  binary\n",
            "  packages,\n",
            "  :none: to\n",
            "  empty the\n",
            "  set, or one\n",
            "  or more\n",
            "  package\n",
            "  names with\n",
            "  commas\n",
            "  between\n",
            "  them (no\n",
            "  colons).\n",
            "  Note that\n",
            "  some\n",
            "  packages\n",
            "  are tricky\n",
            "  to compile\n",
            "  and may\n",
            "  fail to\n",
            "  install\n",
            "  when this\n",
            "  option is\n",
            "  used on\n",
            "  them.\n",
            "  --only-binary <format_control>\n",
            "  Do not use\n",
            "  source\n",
            "  packages.\n",
            "  Can be\n",
            "  supplied\n",
            "  multiple\n",
            "  times, and\n",
            "  each time\n",
            "  adds to the\n",
            "  existing\n",
            "  value.\n",
            "  Accepts\n",
            "  either\n",
            "  :all: to\n",
            "  disable all\n",
            "  source\n",
            "  packages,\n",
            "  :none: to\n",
            "  empty the\n",
            "  set, or one\n",
            "  or more\n",
            "  package\n",
            "  names with\n",
            "  commas\n",
            "  between\n",
            "  them.\n",
            "  Packages\n",
            "  without\n",
            "  binary dist\n",
            "  ributions\n",
            "  will fail\n",
            "  to install\n",
            "  when this\n",
            "  option is\n",
            "  used on\n",
            "  them.\n",
            "  --prefer-binary\n",
            "  Prefer\n",
            "  older\n",
            "  binary\n",
            "  packages\n",
            "  over newer\n",
            "  source\n",
            "  packages.\n",
            "  --no-clean\n",
            "  Don't clean\n",
            "  up build di\n",
            "  rectories.\n",
            "  --require-hashes\n",
            "  Require a\n",
            "  hash to\n",
            "  check each\n",
            "  requirement\n",
            "  against,\n",
            "  for\n",
            "  repeatable\n",
            "  installs.\n",
            "  This option\n",
            "  is implied\n",
            "  when any\n",
            "  package in\n",
            "  a requireme\n",
            "  nts file\n",
            "  has a\n",
            "  --hash\n",
            "  option.\n",
            "  --progress-bar <progress_bar>\n",
            "  Specify\n",
            "  type of\n",
            "  progress to\n",
            "  be\n",
            "  displayed [\n",
            "  off|on|asci\n",
            "  i|pretty|em\n",
            "  oji]\n",
            "  (default:\n",
            "  on)\n",
            "\n",
            "Package Index Options:\n",
            "  -i, --index-url <url>\n",
            "  Base URL of\n",
            "  the Python\n",
            "  Package\n",
            "  Index\n",
            "  (default ht\n",
            "  tps://pypi.\n",
            "  org/simple)\n",
            "  . This\n",
            "  should\n",
            "  point to a\n",
            "  repository\n",
            "  compliant\n",
            "  with PEP\n",
            "  503 (the\n",
            "  simple\n",
            "  repository\n",
            "  API) or a\n",
            "  local\n",
            "  directory\n",
            "  laid out in\n",
            "  the same\n",
            "  format.\n",
            "  --extra-index-url <url>\n",
            "  Extra URLs\n",
            "  of package\n",
            "  indexes to\n",
            "  use in\n",
            "  addition to\n",
            "  --index-\n",
            "  url. Should\n",
            "  follow the\n",
            "  same rules\n",
            "  as --index-\n",
            "  url.\n",
            "  --no-index\n",
            "  Ignore\n",
            "  package\n",
            "  index (only\n",
            "  looking at\n",
            "  --find-\n",
            "  links URLs\n",
            "  instead).\n",
            "  -f, --find-links <url>\n",
            "  If a url or\n",
            "  path to an\n",
            "  html file,\n",
            "  then parse\n",
            "  for links\n",
            "  to\n",
            "  archives.\n",
            "  If a local\n",
            "  path or\n",
            "  file:// url\n",
            "  that's a\n",
            "  directory,\n",
            "  then look\n",
            "  for\n",
            "  archives in\n",
            "  the\n",
            "  directory\n",
            "  listing.\n",
            "\n",
            "General Options:\n",
            "  -h, --help\n",
            "  Show help.\n",
            "  --isolated\n",
            "  Run pip in\n",
            "  an isolated\n",
            "  mode,\n",
            "  ignoring\n",
            "  environment\n",
            "  variables\n",
            "  and user co\n",
            "  nfiguration\n",
            "  .\n",
            "  -v, --verbose\n",
            "  Give more\n",
            "  output.\n",
            "  Option is\n",
            "  additive,\n",
            "  and can be\n",
            "  used up to\n",
            "  3 times.\n",
            "  -V, --version\n",
            "  Show\n",
            "  version and\n",
            "  exit.\n",
            "  -q, --quiet\n",
            "  Give less\n",
            "  output.\n",
            "  Option is\n",
            "  additive,\n",
            "  and can be\n",
            "  used up to\n",
            "  3 times (co\n",
            "  rresponding\n",
            "  to WARNING,\n",
            "  ERROR, and\n",
            "  CRITICAL\n",
            "  logging\n",
            "  levels).\n",
            "  --log <path>\n",
            "  Path to a\n",
            "  verbose\n",
            "  appending\n",
            "  log.\n",
            "  --proxy <proxy>\n",
            "  Specify a\n",
            "  proxy in\n",
            "  the form [u\n",
            "  ser:passwd@\n",
            "  ]proxy.serv\n",
            "  er:port.\n",
            "  --retries <retries>\n",
            "  Maximum\n",
            "  number of\n",
            "  retries\n",
            "  each\n",
            "  connection\n",
            "  should\n",
            "  attempt\n",
            "  (default 5\n",
            "  times).\n",
            "  --timeout <sec>\n",
            "  Set the\n",
            "  socket\n",
            "  timeout\n",
            "  (default 15\n",
            "  seconds).\n",
            "  --exists-action <action>\n",
            "  Default\n",
            "  action when\n",
            "  a path\n",
            "  already\n",
            "  exists:\n",
            "  (s)witch,\n",
            "  (i)gnore,\n",
            "  (w)ipe,\n",
            "  (b)ackup,\n",
            "  (a)bort.\n",
            "  --trusted-host <hostname>\n",
            "  Mark this\n",
            "  host or\n",
            "  host:port\n",
            "  pair as\n",
            "  trusted,\n",
            "  even though\n",
            "  it does not\n",
            "  have valid\n",
            "  or any\n",
            "  HTTPS.\n",
            "  --cert <path>\n",
            "  Path to\n",
            "  alternate\n",
            "  CA bundle.\n",
            "  --client-cert <path>\n",
            "  Path to SSL\n",
            "  client cert\n",
            "  ificate, a\n",
            "  single file\n",
            "  containing\n",
            "  the private\n",
            "  key and the\n",
            "  certificate\n",
            "  in PEM\n",
            "  format.\n",
            "  --cache-dir <dir>\n",
            "  Store the\n",
            "  cache data\n",
            "  in <dir>.\n",
            "  --no-cache-dir\n",
            "  Disable the\n",
            "  cache.\n",
            "  --disable-pip-version-check\n",
            "  Don't perio\n",
            "  dically\n",
            "  check PyPI\n",
            "  to\n",
            "  determine\n",
            "  whether a\n",
            "  new version\n",
            "  of pip is\n",
            "  available\n",
            "  for\n",
            "  download.\n",
            "  Implied\n",
            "  with --no-\n",
            "  index.\n",
            "  --no-color\n",
            "  Suppress\n",
            "  colored\n",
            "  output\n",
            "Requirement already satisfied: imblearn in /usr/local/lib/python3.6/dist-packages (0.0)\n",
            "Requirement already satisfied: imbalanced-learn in /usr/local/lib/python3.6/dist-packages (from imblearn) (0.4.3)\n",
            "Requirement already satisfied: numpy>=1.8.2 in /usr/local/lib/python3.6/dist-packages (from imbalanced-learn->imblearn) (1.18.5)\n",
            "Requirement already satisfied: scipy>=0.13.3 in /usr/local/lib/python3.6/dist-packages (from imbalanced-learn->imblearn) (1.4.1)\n",
            "Requirement already satisfied: scikit-learn>=0.20 in /usr/local/lib/python3.6/dist-packages (from imbalanced-learn->imblearn) (0.22.2.post1)\n",
            "Requirement already satisfied: joblib>=0.11 in /usr/local/lib/python3.6/dist-packages (from scikit-learn>=0.20->imbalanced-learn->imblearn) (0.15.1)\n"
          ],
          "name": "stdout"
        }
      ]
    },
    {
      "cell_type": "markdown",
      "metadata": {
        "id": "Inug8vuI9hcr"
      },
      "source": [
        "#IMPORTING"
      ]
    },
    {
      "cell_type": "markdown",
      "metadata": {
        "id": "pX0OEkj-9hcs"
      },
      "source": [
        "###LIBRARIES"
      ]
    },
    {
      "cell_type": "code",
      "metadata": {
        "id": "w8P2g-jK9hct"
      },
      "source": [
        "import numpy as np\n",
        "import pandas as pd\n",
        "import seaborn as sns\n",
        "from numpy import mean\n",
        "from numpy import std\n",
        "from matplotlib import cm as cm\n",
        "import matplotlib.pyplot as plt\n",
        "from sklearn.pipeline import Pipeline\n",
        "from sklearn.pipeline import make_pipeline\n",
        "\n",
        "import time\n",
        "import warnings\n",
        "warnings.filterwarnings('ignore')\n",
        "warnings.filterwarnings('ignore', category=DeprecationWarning)\n",
        "\n",
        "from imblearn.over_sampling import SMOTE\n",
        "from imblearn.under_sampling import NearMiss\n",
        "from sklearn.model_selection import train_test_split\n",
        "\n",
        "from sklearn.model_selection import cross_val_score\n",
        "from sklearn.model_selection import StratifiedKFold\n",
        "from sklearn.preprocessing import StandardScaler\n",
        "from sklearn.model_selection import GridSearchCV\n",
        "from sklearn.neighbors import KNeighborsClassifier\n",
        "from sklearn.svm import SVC\n",
        "from sklearn.svm import LinearSVC\n",
        "from sklearn.calibration import CalibratedClassifierCV\n",
        "from sklearn.naive_bayes import GaussianNB\n",
        "from sklearn.tree import DecisionTreeClassifier\n",
        "from sklearn.ensemble import BaggingClassifier\n",
        "from sklearn.ensemble import ExtraTreesClassifier\n",
        "from sklearn.ensemble import RandomForestClassifier\n",
        "from sklearn.ensemble import GradientBoostingClassifier\n",
        "from sklearn.linear_model import SGDClassifier\n",
        "from xgboost import XGBClassifier\n",
        "from sklearn.ensemble import AdaBoostClassifier\n",
        "from catboost import CatBoostClassifier\n",
        "from lightgbm import LGBMClassifier\n",
        "\n",
        "from tensorflow import keras\n",
        "from keras.models import Sequential\n",
        "from keras.layers import Convolution2D, MaxPooling2D, Dense, Activation, Flatten\n",
        "from keras.callbacks import ModelCheckpoint\n",
        "\n",
        "from sklearn.metrics import confusion_matrix\n",
        "from sklearn.metrics import mean_absolute_error \n",
        "from sklearn.metrics import classification_report\n",
        "from sklearn.metrics import confusion_matrix\n",
        "from sklearn.metrics import accuracy_score"
      ],
      "execution_count": null,
      "outputs": []
    },
    {
      "cell_type": "markdown",
      "metadata": {
        "id": "r6A4uWh7A26m"
      },
      "source": [
        "###MOUNTING DRIVE"
      ]
    },
    {
      "cell_type": "code",
      "metadata": {
        "id": "w_MSK-ew9hcw",
        "colab": {
          "base_uri": "https://localhost:8080/",
          "height": 34
        },
        "outputId": "62b12bc3-530d-486e-c9a5-421c5e966bc9"
      },
      "source": [
        "from google.colab import drive\n",
        "drive.mount('/content/drive/')"
      ],
      "execution_count": null,
      "outputs": [
        {
          "output_type": "stream",
          "text": [
            "Drive already mounted at /content/drive/; to attempt to forcibly remount, call drive.mount(\"/content/drive/\", force_remount=True).\n"
          ],
          "name": "stdout"
        }
      ]
    },
    {
      "cell_type": "markdown",
      "metadata": {
        "id": "QAR_wjW_A6i4"
      },
      "source": [
        "###IMPORT TRAINING DATA"
      ]
    },
    {
      "cell_type": "code",
      "metadata": {
        "id": "8qvcfyNn9hcz",
        "colab": {
          "base_uri": "https://localhost:8080/",
          "height": 220
        },
        "outputId": "944a58e0-dba7-4b7e-d55a-d2bd5136b7da"
      },
      "source": [
        "path = \"/content/drive/My Drive/LoanPrediction/train_ctrUa4K.csv\"\n",
        "train = pd.read_csv(path)\n",
        "print(train.shape)\n",
        "train.head()"
      ],
      "execution_count": null,
      "outputs": [
        {
          "output_type": "stream",
          "text": [
            "(614, 13)\n"
          ],
          "name": "stdout"
        },
        {
          "output_type": "execute_result",
          "data": {
            "text/html": [
              "<div>\n",
              "<style scoped>\n",
              "    .dataframe tbody tr th:only-of-type {\n",
              "        vertical-align: middle;\n",
              "    }\n",
              "\n",
              "    .dataframe tbody tr th {\n",
              "        vertical-align: top;\n",
              "    }\n",
              "\n",
              "    .dataframe thead th {\n",
              "        text-align: right;\n",
              "    }\n",
              "</style>\n",
              "<table border=\"1\" class=\"dataframe\">\n",
              "  <thead>\n",
              "    <tr style=\"text-align: right;\">\n",
              "      <th></th>\n",
              "      <th>Loan_ID</th>\n",
              "      <th>Gender</th>\n",
              "      <th>Married</th>\n",
              "      <th>Dependents</th>\n",
              "      <th>Education</th>\n",
              "      <th>Self_Employed</th>\n",
              "      <th>ApplicantIncome</th>\n",
              "      <th>CoapplicantIncome</th>\n",
              "      <th>LoanAmount</th>\n",
              "      <th>Loan_Amount_Term</th>\n",
              "      <th>Credit_History</th>\n",
              "      <th>Property_Area</th>\n",
              "      <th>Loan_Status</th>\n",
              "    </tr>\n",
              "  </thead>\n",
              "  <tbody>\n",
              "    <tr>\n",
              "      <th>0</th>\n",
              "      <td>LP001002</td>\n",
              "      <td>Male</td>\n",
              "      <td>No</td>\n",
              "      <td>0</td>\n",
              "      <td>Graduate</td>\n",
              "      <td>No</td>\n",
              "      <td>5849</td>\n",
              "      <td>0.0</td>\n",
              "      <td>NaN</td>\n",
              "      <td>360.0</td>\n",
              "      <td>1.0</td>\n",
              "      <td>Urban</td>\n",
              "      <td>Y</td>\n",
              "    </tr>\n",
              "    <tr>\n",
              "      <th>1</th>\n",
              "      <td>LP001003</td>\n",
              "      <td>Male</td>\n",
              "      <td>Yes</td>\n",
              "      <td>1</td>\n",
              "      <td>Graduate</td>\n",
              "      <td>No</td>\n",
              "      <td>4583</td>\n",
              "      <td>1508.0</td>\n",
              "      <td>128.0</td>\n",
              "      <td>360.0</td>\n",
              "      <td>1.0</td>\n",
              "      <td>Rural</td>\n",
              "      <td>N</td>\n",
              "    </tr>\n",
              "    <tr>\n",
              "      <th>2</th>\n",
              "      <td>LP001005</td>\n",
              "      <td>Male</td>\n",
              "      <td>Yes</td>\n",
              "      <td>0</td>\n",
              "      <td>Graduate</td>\n",
              "      <td>Yes</td>\n",
              "      <td>3000</td>\n",
              "      <td>0.0</td>\n",
              "      <td>66.0</td>\n",
              "      <td>360.0</td>\n",
              "      <td>1.0</td>\n",
              "      <td>Urban</td>\n",
              "      <td>Y</td>\n",
              "    </tr>\n",
              "    <tr>\n",
              "      <th>3</th>\n",
              "      <td>LP001006</td>\n",
              "      <td>Male</td>\n",
              "      <td>Yes</td>\n",
              "      <td>0</td>\n",
              "      <td>Not Graduate</td>\n",
              "      <td>No</td>\n",
              "      <td>2583</td>\n",
              "      <td>2358.0</td>\n",
              "      <td>120.0</td>\n",
              "      <td>360.0</td>\n",
              "      <td>1.0</td>\n",
              "      <td>Urban</td>\n",
              "      <td>Y</td>\n",
              "    </tr>\n",
              "    <tr>\n",
              "      <th>4</th>\n",
              "      <td>LP001008</td>\n",
              "      <td>Male</td>\n",
              "      <td>No</td>\n",
              "      <td>0</td>\n",
              "      <td>Graduate</td>\n",
              "      <td>No</td>\n",
              "      <td>6000</td>\n",
              "      <td>0.0</td>\n",
              "      <td>141.0</td>\n",
              "      <td>360.0</td>\n",
              "      <td>1.0</td>\n",
              "      <td>Urban</td>\n",
              "      <td>Y</td>\n",
              "    </tr>\n",
              "  </tbody>\n",
              "</table>\n",
              "</div>"
            ],
            "text/plain": [
              "    Loan_ID Gender Married  ... Credit_History Property_Area Loan_Status\n",
              "0  LP001002   Male      No  ...            1.0         Urban           Y\n",
              "1  LP001003   Male     Yes  ...            1.0         Rural           N\n",
              "2  LP001005   Male     Yes  ...            1.0         Urban           Y\n",
              "3  LP001006   Male     Yes  ...            1.0         Urban           Y\n",
              "4  LP001008   Male      No  ...            1.0         Urban           Y\n",
              "\n",
              "[5 rows x 13 columns]"
            ]
          },
          "metadata": {
            "tags": []
          },
          "execution_count": 99
        }
      ]
    },
    {
      "cell_type": "code",
      "metadata": {
        "id": "C4bDWVO9Cb2n",
        "colab": {
          "base_uri": "https://localhost:8080/",
          "height": 294
        },
        "outputId": "ca417421-6e29-45a2-ff37-f207b95dfa3e"
      },
      "source": [
        "train.describe()"
      ],
      "execution_count": null,
      "outputs": [
        {
          "output_type": "execute_result",
          "data": {
            "text/html": [
              "<div>\n",
              "<style scoped>\n",
              "    .dataframe tbody tr th:only-of-type {\n",
              "        vertical-align: middle;\n",
              "    }\n",
              "\n",
              "    .dataframe tbody tr th {\n",
              "        vertical-align: top;\n",
              "    }\n",
              "\n",
              "    .dataframe thead th {\n",
              "        text-align: right;\n",
              "    }\n",
              "</style>\n",
              "<table border=\"1\" class=\"dataframe\">\n",
              "  <thead>\n",
              "    <tr style=\"text-align: right;\">\n",
              "      <th></th>\n",
              "      <th>ApplicantIncome</th>\n",
              "      <th>CoapplicantIncome</th>\n",
              "      <th>LoanAmount</th>\n",
              "      <th>Loan_Amount_Term</th>\n",
              "      <th>Credit_History</th>\n",
              "    </tr>\n",
              "  </thead>\n",
              "  <tbody>\n",
              "    <tr>\n",
              "      <th>count</th>\n",
              "      <td>614.000000</td>\n",
              "      <td>614.000000</td>\n",
              "      <td>592.000000</td>\n",
              "      <td>600.00000</td>\n",
              "      <td>564.000000</td>\n",
              "    </tr>\n",
              "    <tr>\n",
              "      <th>mean</th>\n",
              "      <td>5403.459283</td>\n",
              "      <td>1621.245798</td>\n",
              "      <td>146.412162</td>\n",
              "      <td>342.00000</td>\n",
              "      <td>0.842199</td>\n",
              "    </tr>\n",
              "    <tr>\n",
              "      <th>std</th>\n",
              "      <td>6109.041673</td>\n",
              "      <td>2926.248369</td>\n",
              "      <td>85.587325</td>\n",
              "      <td>65.12041</td>\n",
              "      <td>0.364878</td>\n",
              "    </tr>\n",
              "    <tr>\n",
              "      <th>min</th>\n",
              "      <td>150.000000</td>\n",
              "      <td>0.000000</td>\n",
              "      <td>9.000000</td>\n",
              "      <td>12.00000</td>\n",
              "      <td>0.000000</td>\n",
              "    </tr>\n",
              "    <tr>\n",
              "      <th>25%</th>\n",
              "      <td>2877.500000</td>\n",
              "      <td>0.000000</td>\n",
              "      <td>100.000000</td>\n",
              "      <td>360.00000</td>\n",
              "      <td>1.000000</td>\n",
              "    </tr>\n",
              "    <tr>\n",
              "      <th>50%</th>\n",
              "      <td>3812.500000</td>\n",
              "      <td>1188.500000</td>\n",
              "      <td>128.000000</td>\n",
              "      <td>360.00000</td>\n",
              "      <td>1.000000</td>\n",
              "    </tr>\n",
              "    <tr>\n",
              "      <th>75%</th>\n",
              "      <td>5795.000000</td>\n",
              "      <td>2297.250000</td>\n",
              "      <td>168.000000</td>\n",
              "      <td>360.00000</td>\n",
              "      <td>1.000000</td>\n",
              "    </tr>\n",
              "    <tr>\n",
              "      <th>max</th>\n",
              "      <td>81000.000000</td>\n",
              "      <td>41667.000000</td>\n",
              "      <td>700.000000</td>\n",
              "      <td>480.00000</td>\n",
              "      <td>1.000000</td>\n",
              "    </tr>\n",
              "  </tbody>\n",
              "</table>\n",
              "</div>"
            ],
            "text/plain": [
              "       ApplicantIncome  CoapplicantIncome  ...  Loan_Amount_Term  Credit_History\n",
              "count       614.000000         614.000000  ...         600.00000      564.000000\n",
              "mean       5403.459283        1621.245798  ...         342.00000        0.842199\n",
              "std        6109.041673        2926.248369  ...          65.12041        0.364878\n",
              "min         150.000000           0.000000  ...          12.00000        0.000000\n",
              "25%        2877.500000           0.000000  ...         360.00000        1.000000\n",
              "50%        3812.500000        1188.500000  ...         360.00000        1.000000\n",
              "75%        5795.000000        2297.250000  ...         360.00000        1.000000\n",
              "max       81000.000000       41667.000000  ...         480.00000        1.000000\n",
              "\n",
              "[8 rows x 5 columns]"
            ]
          },
          "metadata": {
            "tags": []
          },
          "execution_count": 100
        }
      ]
    },
    {
      "cell_type": "markdown",
      "metadata": {
        "id": "cwtT91wkA_lO"
      },
      "source": [
        "###IMPORT TESTING DATA"
      ]
    },
    {
      "cell_type": "code",
      "metadata": {
        "id": "SqMzhQKLBC_U",
        "colab": {
          "base_uri": "https://localhost:8080/",
          "height": 220
        },
        "outputId": "6b1f0f8b-f973-4268-e355-5e079a64f924"
      },
      "source": [
        "path = \"/content/drive/My Drive/LoanPrediction/test_lAUu6dG.csv\"\n",
        "test = pd.read_csv(path)\n",
        "print(test.shape)\n",
        "test.head()"
      ],
      "execution_count": null,
      "outputs": [
        {
          "output_type": "stream",
          "text": [
            "(367, 12)\n"
          ],
          "name": "stdout"
        },
        {
          "output_type": "execute_result",
          "data": {
            "text/html": [
              "<div>\n",
              "<style scoped>\n",
              "    .dataframe tbody tr th:only-of-type {\n",
              "        vertical-align: middle;\n",
              "    }\n",
              "\n",
              "    .dataframe tbody tr th {\n",
              "        vertical-align: top;\n",
              "    }\n",
              "\n",
              "    .dataframe thead th {\n",
              "        text-align: right;\n",
              "    }\n",
              "</style>\n",
              "<table border=\"1\" class=\"dataframe\">\n",
              "  <thead>\n",
              "    <tr style=\"text-align: right;\">\n",
              "      <th></th>\n",
              "      <th>Loan_ID</th>\n",
              "      <th>Gender</th>\n",
              "      <th>Married</th>\n",
              "      <th>Dependents</th>\n",
              "      <th>Education</th>\n",
              "      <th>Self_Employed</th>\n",
              "      <th>ApplicantIncome</th>\n",
              "      <th>CoapplicantIncome</th>\n",
              "      <th>LoanAmount</th>\n",
              "      <th>Loan_Amount_Term</th>\n",
              "      <th>Credit_History</th>\n",
              "      <th>Property_Area</th>\n",
              "    </tr>\n",
              "  </thead>\n",
              "  <tbody>\n",
              "    <tr>\n",
              "      <th>0</th>\n",
              "      <td>LP001015</td>\n",
              "      <td>Male</td>\n",
              "      <td>Yes</td>\n",
              "      <td>0</td>\n",
              "      <td>Graduate</td>\n",
              "      <td>No</td>\n",
              "      <td>5720</td>\n",
              "      <td>0</td>\n",
              "      <td>110.0</td>\n",
              "      <td>360.0</td>\n",
              "      <td>1.0</td>\n",
              "      <td>Urban</td>\n",
              "    </tr>\n",
              "    <tr>\n",
              "      <th>1</th>\n",
              "      <td>LP001022</td>\n",
              "      <td>Male</td>\n",
              "      <td>Yes</td>\n",
              "      <td>1</td>\n",
              "      <td>Graduate</td>\n",
              "      <td>No</td>\n",
              "      <td>3076</td>\n",
              "      <td>1500</td>\n",
              "      <td>126.0</td>\n",
              "      <td>360.0</td>\n",
              "      <td>1.0</td>\n",
              "      <td>Urban</td>\n",
              "    </tr>\n",
              "    <tr>\n",
              "      <th>2</th>\n",
              "      <td>LP001031</td>\n",
              "      <td>Male</td>\n",
              "      <td>Yes</td>\n",
              "      <td>2</td>\n",
              "      <td>Graduate</td>\n",
              "      <td>No</td>\n",
              "      <td>5000</td>\n",
              "      <td>1800</td>\n",
              "      <td>208.0</td>\n",
              "      <td>360.0</td>\n",
              "      <td>1.0</td>\n",
              "      <td>Urban</td>\n",
              "    </tr>\n",
              "    <tr>\n",
              "      <th>3</th>\n",
              "      <td>LP001035</td>\n",
              "      <td>Male</td>\n",
              "      <td>Yes</td>\n",
              "      <td>2</td>\n",
              "      <td>Graduate</td>\n",
              "      <td>No</td>\n",
              "      <td>2340</td>\n",
              "      <td>2546</td>\n",
              "      <td>100.0</td>\n",
              "      <td>360.0</td>\n",
              "      <td>NaN</td>\n",
              "      <td>Urban</td>\n",
              "    </tr>\n",
              "    <tr>\n",
              "      <th>4</th>\n",
              "      <td>LP001051</td>\n",
              "      <td>Male</td>\n",
              "      <td>No</td>\n",
              "      <td>0</td>\n",
              "      <td>Not Graduate</td>\n",
              "      <td>No</td>\n",
              "      <td>3276</td>\n",
              "      <td>0</td>\n",
              "      <td>78.0</td>\n",
              "      <td>360.0</td>\n",
              "      <td>1.0</td>\n",
              "      <td>Urban</td>\n",
              "    </tr>\n",
              "  </tbody>\n",
              "</table>\n",
              "</div>"
            ],
            "text/plain": [
              "    Loan_ID Gender Married  ... Loan_Amount_Term Credit_History Property_Area\n",
              "0  LP001015   Male     Yes  ...            360.0            1.0         Urban\n",
              "1  LP001022   Male     Yes  ...            360.0            1.0         Urban\n",
              "2  LP001031   Male     Yes  ...            360.0            1.0         Urban\n",
              "3  LP001035   Male     Yes  ...            360.0            NaN         Urban\n",
              "4  LP001051   Male      No  ...            360.0            1.0         Urban\n",
              "\n",
              "[5 rows x 12 columns]"
            ]
          },
          "metadata": {
            "tags": []
          },
          "execution_count": 101
        }
      ]
    },
    {
      "cell_type": "code",
      "metadata": {
        "id": "jW6gcMHN-6ow",
        "colab": {
          "base_uri": "https://localhost:8080/",
          "height": 294
        },
        "outputId": "718fadb0-9a17-4e62-af3a-077f664bbf84"
      },
      "source": [
        "test.describe()"
      ],
      "execution_count": null,
      "outputs": [
        {
          "output_type": "execute_result",
          "data": {
            "text/html": [
              "<div>\n",
              "<style scoped>\n",
              "    .dataframe tbody tr th:only-of-type {\n",
              "        vertical-align: middle;\n",
              "    }\n",
              "\n",
              "    .dataframe tbody tr th {\n",
              "        vertical-align: top;\n",
              "    }\n",
              "\n",
              "    .dataframe thead th {\n",
              "        text-align: right;\n",
              "    }\n",
              "</style>\n",
              "<table border=\"1\" class=\"dataframe\">\n",
              "  <thead>\n",
              "    <tr style=\"text-align: right;\">\n",
              "      <th></th>\n",
              "      <th>ApplicantIncome</th>\n",
              "      <th>CoapplicantIncome</th>\n",
              "      <th>LoanAmount</th>\n",
              "      <th>Loan_Amount_Term</th>\n",
              "      <th>Credit_History</th>\n",
              "    </tr>\n",
              "  </thead>\n",
              "  <tbody>\n",
              "    <tr>\n",
              "      <th>count</th>\n",
              "      <td>367.000000</td>\n",
              "      <td>367.000000</td>\n",
              "      <td>362.000000</td>\n",
              "      <td>361.000000</td>\n",
              "      <td>338.000000</td>\n",
              "    </tr>\n",
              "    <tr>\n",
              "      <th>mean</th>\n",
              "      <td>4805.599455</td>\n",
              "      <td>1569.577657</td>\n",
              "      <td>136.132597</td>\n",
              "      <td>342.537396</td>\n",
              "      <td>0.825444</td>\n",
              "    </tr>\n",
              "    <tr>\n",
              "      <th>std</th>\n",
              "      <td>4910.685399</td>\n",
              "      <td>2334.232099</td>\n",
              "      <td>61.366652</td>\n",
              "      <td>65.156643</td>\n",
              "      <td>0.380150</td>\n",
              "    </tr>\n",
              "    <tr>\n",
              "      <th>min</th>\n",
              "      <td>0.000000</td>\n",
              "      <td>0.000000</td>\n",
              "      <td>28.000000</td>\n",
              "      <td>6.000000</td>\n",
              "      <td>0.000000</td>\n",
              "    </tr>\n",
              "    <tr>\n",
              "      <th>25%</th>\n",
              "      <td>2864.000000</td>\n",
              "      <td>0.000000</td>\n",
              "      <td>100.250000</td>\n",
              "      <td>360.000000</td>\n",
              "      <td>1.000000</td>\n",
              "    </tr>\n",
              "    <tr>\n",
              "      <th>50%</th>\n",
              "      <td>3786.000000</td>\n",
              "      <td>1025.000000</td>\n",
              "      <td>125.000000</td>\n",
              "      <td>360.000000</td>\n",
              "      <td>1.000000</td>\n",
              "    </tr>\n",
              "    <tr>\n",
              "      <th>75%</th>\n",
              "      <td>5060.000000</td>\n",
              "      <td>2430.500000</td>\n",
              "      <td>158.000000</td>\n",
              "      <td>360.000000</td>\n",
              "      <td>1.000000</td>\n",
              "    </tr>\n",
              "    <tr>\n",
              "      <th>max</th>\n",
              "      <td>72529.000000</td>\n",
              "      <td>24000.000000</td>\n",
              "      <td>550.000000</td>\n",
              "      <td>480.000000</td>\n",
              "      <td>1.000000</td>\n",
              "    </tr>\n",
              "  </tbody>\n",
              "</table>\n",
              "</div>"
            ],
            "text/plain": [
              "       ApplicantIncome  CoapplicantIncome  ...  Loan_Amount_Term  Credit_History\n",
              "count       367.000000         367.000000  ...        361.000000      338.000000\n",
              "mean       4805.599455        1569.577657  ...        342.537396        0.825444\n",
              "std        4910.685399        2334.232099  ...         65.156643        0.380150\n",
              "min           0.000000           0.000000  ...          6.000000        0.000000\n",
              "25%        2864.000000           0.000000  ...        360.000000        1.000000\n",
              "50%        3786.000000        1025.000000  ...        360.000000        1.000000\n",
              "75%        5060.000000        2430.500000  ...        360.000000        1.000000\n",
              "max       72529.000000       24000.000000  ...        480.000000        1.000000\n",
              "\n",
              "[8 rows x 5 columns]"
            ]
          },
          "metadata": {
            "tags": []
          },
          "execution_count": 102
        }
      ]
    },
    {
      "cell_type": "markdown",
      "metadata": {
        "id": "rNtvmy2h9KiP"
      },
      "source": [
        "#TRAINING DATA PRE-PROCESSING"
      ]
    },
    {
      "cell_type": "code",
      "metadata": {
        "id": "1Z3OJnk1mlN5",
        "colab": {
          "base_uri": "https://localhost:8080/",
          "height": 260
        },
        "outputId": "ce0d28f9-2ff2-4d20-ad11-c345349247ba"
      },
      "source": [
        "#train.columns\n",
        "train.dtypes"
      ],
      "execution_count": null,
      "outputs": [
        {
          "output_type": "execute_result",
          "data": {
            "text/plain": [
              "Loan_ID               object\n",
              "Gender                object\n",
              "Married               object\n",
              "Dependents            object\n",
              "Education             object\n",
              "Self_Employed         object\n",
              "ApplicantIncome        int64\n",
              "CoapplicantIncome    float64\n",
              "LoanAmount           float64\n",
              "Loan_Amount_Term     float64\n",
              "Credit_History       float64\n",
              "Property_Area         object\n",
              "Loan_Status           object\n",
              "dtype: object"
            ]
          },
          "metadata": {
            "tags": []
          },
          "execution_count": 103
        }
      ]
    },
    {
      "cell_type": "markdown",
      "metadata": {
        "id": "hVp4Q6Wf9p1C"
      },
      "source": [
        "###VALUE_COUNTS of CATEGORICAL FEATURES"
      ]
    },
    {
      "cell_type": "code",
      "metadata": {
        "id": "uRhm6YC5aP-B",
        "colab": {
          "base_uri": "https://localhost:8080/",
          "height": 554
        },
        "outputId": "550b7fd4-7ba5-4a40-8bb6-7804dc15cb98"
      },
      "source": [
        "print(train['Gender'].value_counts(), \"\\n\")\n",
        "print(train['Married'].value_counts(), \"\\n\")\n",
        "print(train['Dependents'].value_counts(), \"\\n\")\n",
        "print(train['Education'].value_counts(), \"\\n\")\n",
        "print(train['Self_Employed'].value_counts(), \"\\n\")\n",
        "print(train['Loan_Status'].value_counts(), \"\\n\")\n",
        "print(train['Property_Area'].value_counts(), \"\\n\")"
      ],
      "execution_count": null,
      "outputs": [
        {
          "output_type": "stream",
          "text": [
            "Male      489\n",
            "Female    112\n",
            "Name: Gender, dtype: int64 \n",
            "\n",
            "Yes    398\n",
            "No     213\n",
            "Name: Married, dtype: int64 \n",
            "\n",
            "0     345\n",
            "1     102\n",
            "2     101\n",
            "3+     51\n",
            "Name: Dependents, dtype: int64 \n",
            "\n",
            "Graduate        480\n",
            "Not Graduate    134\n",
            "Name: Education, dtype: int64 \n",
            "\n",
            "No     500\n",
            "Yes     82\n",
            "Name: Self_Employed, dtype: int64 \n",
            "\n",
            "Y    422\n",
            "N    192\n",
            "Name: Loan_Status, dtype: int64 \n",
            "\n",
            "Semiurban    233\n",
            "Urban        202\n",
            "Rural        179\n",
            "Name: Property_Area, dtype: int64 \n",
            "\n"
          ],
          "name": "stdout"
        }
      ]
    },
    {
      "cell_type": "markdown",
      "metadata": {
        "id": "Hwno3oa09xsg"
      },
      "source": [
        "###CATEGORIAL ENCODING"
      ]
    },
    {
      "cell_type": "code",
      "metadata": {
        "id": "igr95EBHb5z2",
        "colab": {
          "base_uri": "https://localhost:8080/",
          "height": 202
        },
        "outputId": "daf49855-141a-4350-d581-6296acf2f27c"
      },
      "source": [
        "#data['diagnosis'] = data['diagnosis'].apply(lambda x: '1' if x == 'M' else '0')\n",
        "\n",
        "train['Gender'].replace(['Male', 'Female'], [0, 1], inplace=True)\n",
        "train['Married'].replace(['No', 'Yes'], [0, 1], inplace=True)\n",
        "train['Self_Employed'].replace(['Yes', 'No'], [1, 0], inplace=True)\n",
        "train['Loan_Status'].replace(['N', 'Y'], [0, 1], inplace=True)\n",
        "train['Dependents'].replace(['3+'], [3], inplace=True)\n",
        "train['Education'].replace(['Graduate', 'Not Graduate'], [1, 0], inplace=True)\n",
        "train['Property_Area'].replace(['Semiurban', 'Urban', 'Rural'], [0, 1, 2], inplace=True)\n",
        "train.head()"
      ],
      "execution_count": null,
      "outputs": [
        {
          "output_type": "execute_result",
          "data": {
            "text/html": [
              "<div>\n",
              "<style scoped>\n",
              "    .dataframe tbody tr th:only-of-type {\n",
              "        vertical-align: middle;\n",
              "    }\n",
              "\n",
              "    .dataframe tbody tr th {\n",
              "        vertical-align: top;\n",
              "    }\n",
              "\n",
              "    .dataframe thead th {\n",
              "        text-align: right;\n",
              "    }\n",
              "</style>\n",
              "<table border=\"1\" class=\"dataframe\">\n",
              "  <thead>\n",
              "    <tr style=\"text-align: right;\">\n",
              "      <th></th>\n",
              "      <th>Loan_ID</th>\n",
              "      <th>Gender</th>\n",
              "      <th>Married</th>\n",
              "      <th>Dependents</th>\n",
              "      <th>Education</th>\n",
              "      <th>Self_Employed</th>\n",
              "      <th>ApplicantIncome</th>\n",
              "      <th>CoapplicantIncome</th>\n",
              "      <th>LoanAmount</th>\n",
              "      <th>Loan_Amount_Term</th>\n",
              "      <th>Credit_History</th>\n",
              "      <th>Property_Area</th>\n",
              "      <th>Loan_Status</th>\n",
              "    </tr>\n",
              "  </thead>\n",
              "  <tbody>\n",
              "    <tr>\n",
              "      <th>0</th>\n",
              "      <td>LP001002</td>\n",
              "      <td>0.0</td>\n",
              "      <td>0.0</td>\n",
              "      <td>0</td>\n",
              "      <td>1</td>\n",
              "      <td>0.0</td>\n",
              "      <td>5849</td>\n",
              "      <td>0.0</td>\n",
              "      <td>NaN</td>\n",
              "      <td>360.0</td>\n",
              "      <td>1.0</td>\n",
              "      <td>1</td>\n",
              "      <td>1</td>\n",
              "    </tr>\n",
              "    <tr>\n",
              "      <th>1</th>\n",
              "      <td>LP001003</td>\n",
              "      <td>0.0</td>\n",
              "      <td>1.0</td>\n",
              "      <td>1</td>\n",
              "      <td>1</td>\n",
              "      <td>0.0</td>\n",
              "      <td>4583</td>\n",
              "      <td>1508.0</td>\n",
              "      <td>128.0</td>\n",
              "      <td>360.0</td>\n",
              "      <td>1.0</td>\n",
              "      <td>2</td>\n",
              "      <td>0</td>\n",
              "    </tr>\n",
              "    <tr>\n",
              "      <th>2</th>\n",
              "      <td>LP001005</td>\n",
              "      <td>0.0</td>\n",
              "      <td>1.0</td>\n",
              "      <td>0</td>\n",
              "      <td>1</td>\n",
              "      <td>1.0</td>\n",
              "      <td>3000</td>\n",
              "      <td>0.0</td>\n",
              "      <td>66.0</td>\n",
              "      <td>360.0</td>\n",
              "      <td>1.0</td>\n",
              "      <td>1</td>\n",
              "      <td>1</td>\n",
              "    </tr>\n",
              "    <tr>\n",
              "      <th>3</th>\n",
              "      <td>LP001006</td>\n",
              "      <td>0.0</td>\n",
              "      <td>1.0</td>\n",
              "      <td>0</td>\n",
              "      <td>0</td>\n",
              "      <td>0.0</td>\n",
              "      <td>2583</td>\n",
              "      <td>2358.0</td>\n",
              "      <td>120.0</td>\n",
              "      <td>360.0</td>\n",
              "      <td>1.0</td>\n",
              "      <td>1</td>\n",
              "      <td>1</td>\n",
              "    </tr>\n",
              "    <tr>\n",
              "      <th>4</th>\n",
              "      <td>LP001008</td>\n",
              "      <td>0.0</td>\n",
              "      <td>0.0</td>\n",
              "      <td>0</td>\n",
              "      <td>1</td>\n",
              "      <td>0.0</td>\n",
              "      <td>6000</td>\n",
              "      <td>0.0</td>\n",
              "      <td>141.0</td>\n",
              "      <td>360.0</td>\n",
              "      <td>1.0</td>\n",
              "      <td>1</td>\n",
              "      <td>1</td>\n",
              "    </tr>\n",
              "  </tbody>\n",
              "</table>\n",
              "</div>"
            ],
            "text/plain": [
              "    Loan_ID  Gender  Married  ... Credit_History  Property_Area  Loan_Status\n",
              "0  LP001002     0.0      0.0  ...            1.0              1            1\n",
              "1  LP001003     0.0      1.0  ...            1.0              2            0\n",
              "2  LP001005     0.0      1.0  ...            1.0              1            1\n",
              "3  LP001006     0.0      1.0  ...            1.0              1            1\n",
              "4  LP001008     0.0      0.0  ...            1.0              1            1\n",
              "\n",
              "[5 rows x 13 columns]"
            ]
          },
          "metadata": {
            "tags": []
          },
          "execution_count": 105
        }
      ]
    },
    {
      "cell_type": "markdown",
      "metadata": {
        "id": "oVhk2_jm-IQ6"
      },
      "source": [
        "###CHECKING VALUE_COUNTS of CATEGORICAL FEATURES"
      ]
    },
    {
      "cell_type": "code",
      "metadata": {
        "id": "pV9z-qWG3OSe",
        "colab": {
          "base_uri": "https://localhost:8080/",
          "height": 554
        },
        "outputId": "eea6756a-5150-4d43-9e42-addd3db5c722"
      },
      "source": [
        "print(train['Gender'].value_counts(), \"\\n\")\n",
        "print(train['Married'].value_counts(), \"\\n\")\n",
        "print(train['Dependents'].value_counts(), \"\\n\")\n",
        "print(train['Education'].value_counts(), \"\\n\")\n",
        "print(train['Self_Employed'].value_counts(), \"\\n\")\n",
        "print(train['Loan_Status'].value_counts(), \"\\n\")\n",
        "print(train['Property_Area'].value_counts(), \"\\n\")"
      ],
      "execution_count": null,
      "outputs": [
        {
          "output_type": "stream",
          "text": [
            "0.0    489\n",
            "1.0    112\n",
            "Name: Gender, dtype: int64 \n",
            "\n",
            "1.0    398\n",
            "0.0    213\n",
            "Name: Married, dtype: int64 \n",
            "\n",
            "0    345\n",
            "1    102\n",
            "2    101\n",
            "3     51\n",
            "Name: Dependents, dtype: int64 \n",
            "\n",
            "1    480\n",
            "0    134\n",
            "Name: Education, dtype: int64 \n",
            "\n",
            "0.0    500\n",
            "1.0     82\n",
            "Name: Self_Employed, dtype: int64 \n",
            "\n",
            "1    422\n",
            "0    192\n",
            "Name: Loan_Status, dtype: int64 \n",
            "\n",
            "0    233\n",
            "1    202\n",
            "2    179\n",
            "Name: Property_Area, dtype: int64 \n",
            "\n"
          ],
          "name": "stdout"
        }
      ]
    },
    {
      "cell_type": "markdown",
      "metadata": {
        "id": "qyuiyaAO-P0U"
      },
      "source": [
        "###CHECKING NULL VALUES"
      ]
    },
    {
      "cell_type": "code",
      "metadata": {
        "id": "Yfq4Ubgp3Tyf",
        "colab": {
          "base_uri": "https://localhost:8080/",
          "height": 260
        },
        "outputId": "9adafd5b-a83c-4a62-f482-1190dc37195a"
      },
      "source": [
        "train.isnull().sum()"
      ],
      "execution_count": null,
      "outputs": [
        {
          "output_type": "execute_result",
          "data": {
            "text/plain": [
              "Loan_ID               0\n",
              "Gender               13\n",
              "Married               3\n",
              "Dependents           15\n",
              "Education             0\n",
              "Self_Employed        32\n",
              "ApplicantIncome       0\n",
              "CoapplicantIncome     0\n",
              "LoanAmount           22\n",
              "Loan_Amount_Term     14\n",
              "Credit_History       50\n",
              "Property_Area         0\n",
              "Loan_Status           0\n",
              "dtype: int64"
            ]
          },
          "metadata": {
            "tags": []
          },
          "execution_count": 107
        }
      ]
    },
    {
      "cell_type": "code",
      "metadata": {
        "id": "t2sGIVLa7g06"
      },
      "source": [
        "from fancyimpute import KNN  "
      ],
      "execution_count": null,
      "outputs": []
    },
    {
      "cell_type": "code",
      "metadata": {
        "id": "ky3HvBNtduY8",
        "colab": {
          "base_uri": "https://localhost:8080/",
          "height": 156
        },
        "outputId": "071b232d-81d5-42e7-947c-49d7c6f0f046"
      },
      "source": [
        "train['Gender'] = KNN(k=3).fit_transform(train[['Gender']])"
      ],
      "execution_count": null,
      "outputs": [
        {
          "output_type": "stream",
          "text": [
            "Imputing row 1/614 with 0 missing, elapsed time: 0.036\n",
            "Imputing row 101/614 with 0 missing, elapsed time: 0.036\n",
            "Imputing row 201/614 with 0 missing, elapsed time: 0.037\n",
            "Imputing row 301/614 with 0 missing, elapsed time: 0.037\n",
            "Imputing row 401/614 with 0 missing, elapsed time: 0.037\n",
            "Imputing row 501/614 with 0 missing, elapsed time: 0.038\n",
            "Imputing row 601/614 with 0 missing, elapsed time: 0.038\n",
            "[KNN] Warning: 13/614 still missing after imputation, replacing with 0\n"
          ],
          "name": "stdout"
        }
      ]
    },
    {
      "cell_type": "code",
      "metadata": {
        "id": "m6UiaaDl6R8m",
        "colab": {
          "base_uri": "https://localhost:8080/",
          "height": 34
        },
        "outputId": "357a9174-f5ea-42f5-965c-34be695fb782"
      },
      "source": [
        "train.fillna('0')\n",
        "train['Gender'].isnull().sum()"
      ],
      "execution_count": null,
      "outputs": [
        {
          "output_type": "execute_result",
          "data": {
            "text/plain": [
              "0"
            ]
          },
          "metadata": {
            "tags": []
          },
          "execution_count": 110
        }
      ]
    },
    {
      "cell_type": "code",
      "metadata": {
        "id": "GV5Djpwc2jGq",
        "colab": {
          "base_uri": "https://localhost:8080/",
          "height": 156
        },
        "outputId": "c0452491-a77a-4d6d-fed2-1c840c136bad"
      },
      "source": [
        "train['Married'] = KNN(k=3).fit_transform(train[['Married']])"
      ],
      "execution_count": null,
      "outputs": [
        {
          "output_type": "stream",
          "text": [
            "Imputing row 1/614 with 0 missing, elapsed time: 0.036\n",
            "Imputing row 101/614 with 0 missing, elapsed time: 0.036\n",
            "Imputing row 201/614 with 0 missing, elapsed time: 0.037\n",
            "Imputing row 301/614 with 0 missing, elapsed time: 0.037\n",
            "Imputing row 401/614 with 0 missing, elapsed time: 0.037\n",
            "Imputing row 501/614 with 0 missing, elapsed time: 0.037\n",
            "Imputing row 601/614 with 0 missing, elapsed time: 0.038\n",
            "[KNN] Warning: 3/614 still missing after imputation, replacing with 0\n"
          ],
          "name": "stdout"
        }
      ]
    },
    {
      "cell_type": "code",
      "metadata": {
        "id": "1r46T1rd2jHQ",
        "colab": {
          "base_uri": "https://localhost:8080/",
          "height": 34
        },
        "outputId": "648d9005-05a5-472b-b603-d9eac7669f7f"
      },
      "source": [
        "train.fillna('0')\n",
        "train['Married'].isnull().sum()"
      ],
      "execution_count": null,
      "outputs": [
        {
          "output_type": "execute_result",
          "data": {
            "text/plain": [
              "0"
            ]
          },
          "metadata": {
            "tags": []
          },
          "execution_count": 112
        }
      ]
    },
    {
      "cell_type": "code",
      "metadata": {
        "id": "5tryLM0I22Ya",
        "colab": {
          "base_uri": "https://localhost:8080/",
          "height": 156
        },
        "outputId": "7aea24e0-9073-43f8-cc03-1085a95f3c10"
      },
      "source": [
        "train['Dependents'] = KNN(k=3).fit_transform(train[['Dependents']])"
      ],
      "execution_count": null,
      "outputs": [
        {
          "output_type": "stream",
          "text": [
            "Imputing row 1/614 with 0 missing, elapsed time: 0.039\n",
            "Imputing row 101/614 with 0 missing, elapsed time: 0.040\n",
            "Imputing row 201/614 with 0 missing, elapsed time: 0.040\n",
            "Imputing row 301/614 with 0 missing, elapsed time: 0.040\n",
            "Imputing row 401/614 with 0 missing, elapsed time: 0.041\n",
            "Imputing row 501/614 with 0 missing, elapsed time: 0.041\n",
            "Imputing row 601/614 with 0 missing, elapsed time: 0.041\n",
            "[KNN] Warning: 15/614 still missing after imputation, replacing with 0\n"
          ],
          "name": "stdout"
        }
      ]
    },
    {
      "cell_type": "code",
      "metadata": {
        "id": "oama1OVP3ORy",
        "colab": {
          "base_uri": "https://localhost:8080/",
          "height": 34
        },
        "outputId": "aa2e49ae-7787-4e17-c27a-e3462cbb24b4"
      },
      "source": [
        "train.fillna('0')\n",
        "train['Dependents'].isnull().sum()"
      ],
      "execution_count": null,
      "outputs": [
        {
          "output_type": "execute_result",
          "data": {
            "text/plain": [
              "0"
            ]
          },
          "metadata": {
            "tags": []
          },
          "execution_count": 114
        }
      ]
    },
    {
      "cell_type": "code",
      "metadata": {
        "id": "dBs3TnVl22uO",
        "colab": {
          "base_uri": "https://localhost:8080/",
          "height": 156
        },
        "outputId": "13de7ada-20b3-4a5f-f7f6-1ca486473f4f"
      },
      "source": [
        "train['Self_Employed'] = KNN(k=3).fit_transform(train[['Self_Employed']])"
      ],
      "execution_count": null,
      "outputs": [
        {
          "output_type": "stream",
          "text": [
            "Imputing row 1/614 with 0 missing, elapsed time: 0.033\n",
            "Imputing row 101/614 with 0 missing, elapsed time: 0.033\n",
            "Imputing row 201/614 with 0 missing, elapsed time: 0.034\n",
            "Imputing row 301/614 with 0 missing, elapsed time: 0.034\n",
            "Imputing row 401/614 with 0 missing, elapsed time: 0.034\n",
            "Imputing row 501/614 with 0 missing, elapsed time: 0.035\n",
            "Imputing row 601/614 with 1 missing, elapsed time: 0.035\n",
            "[KNN] Warning: 32/614 still missing after imputation, replacing with 0\n"
          ],
          "name": "stdout"
        }
      ]
    },
    {
      "cell_type": "code",
      "metadata": {
        "id": "NLprwqdp3PTJ",
        "colab": {
          "base_uri": "https://localhost:8080/",
          "height": 34
        },
        "outputId": "1cbbe2e9-b724-442b-e55e-5ee577ae55dd"
      },
      "source": [
        "train.fillna('0')\n",
        "train['Self_Employed'].isnull().sum()"
      ],
      "execution_count": null,
      "outputs": [
        {
          "output_type": "execute_result",
          "data": {
            "text/plain": [
              "0"
            ]
          },
          "metadata": {
            "tags": []
          },
          "execution_count": 116
        }
      ]
    },
    {
      "cell_type": "code",
      "metadata": {
        "id": "d3eYzTm5235j",
        "colab": {
          "base_uri": "https://localhost:8080/",
          "height": 156
        },
        "outputId": "0315f875-fd33-40b8-82ec-16b260ff5ef4"
      },
      "source": [
        "train['LoanAmount'] = KNN(k=3).fit_transform(train[['LoanAmount']])"
      ],
      "execution_count": null,
      "outputs": [
        {
          "output_type": "stream",
          "text": [
            "Imputing row 1/614 with 1 missing, elapsed time: 0.047\n",
            "Imputing row 101/614 with 0 missing, elapsed time: 0.048\n",
            "Imputing row 201/614 with 0 missing, elapsed time: 0.048\n",
            "Imputing row 301/614 with 0 missing, elapsed time: 0.049\n",
            "Imputing row 401/614 with 0 missing, elapsed time: 0.049\n",
            "Imputing row 501/614 with 0 missing, elapsed time: 0.049\n",
            "Imputing row 601/614 with 0 missing, elapsed time: 0.049\n",
            "[KNN] Warning: 22/614 still missing after imputation, replacing with 0\n"
          ],
          "name": "stdout"
        }
      ]
    },
    {
      "cell_type": "code",
      "metadata": {
        "id": "1tJAtAyb3QH4",
        "colab": {
          "base_uri": "https://localhost:8080/",
          "height": 34
        },
        "outputId": "724551cd-aa6d-41b6-9344-f306fe499ea5"
      },
      "source": [
        "train.fillna('0')\n",
        "train['LoanAmount'].isnull().sum()"
      ],
      "execution_count": null,
      "outputs": [
        {
          "output_type": "execute_result",
          "data": {
            "text/plain": [
              "0"
            ]
          },
          "metadata": {
            "tags": []
          },
          "execution_count": 118
        }
      ]
    },
    {
      "cell_type": "code",
      "metadata": {
        "id": "izhs1wJe239W",
        "colab": {
          "base_uri": "https://localhost:8080/",
          "height": 156
        },
        "outputId": "3bfd657b-0614-4b0c-f5d3-d32a2abb60d5"
      },
      "source": [
        "train['Loan_Amount_Term'] = KNN(k=3).fit_transform(train[['Loan_Amount_Term']])"
      ],
      "execution_count": null,
      "outputs": [
        {
          "output_type": "stream",
          "text": [
            "Imputing row 1/614 with 0 missing, elapsed time: 0.034\n",
            "Imputing row 101/614 with 0 missing, elapsed time: 0.034\n",
            "Imputing row 201/614 with 0 missing, elapsed time: 0.034\n",
            "Imputing row 301/614 with 0 missing, elapsed time: 0.035\n",
            "Imputing row 401/614 with 0 missing, elapsed time: 0.035\n",
            "Imputing row 501/614 with 0 missing, elapsed time: 0.035\n",
            "Imputing row 601/614 with 0 missing, elapsed time: 0.036\n",
            "[KNN] Warning: 14/614 still missing after imputation, replacing with 0\n"
          ],
          "name": "stdout"
        }
      ]
    },
    {
      "cell_type": "code",
      "metadata": {
        "id": "2GAq29Yl3RxX",
        "colab": {
          "base_uri": "https://localhost:8080/",
          "height": 34
        },
        "outputId": "117da8da-1c68-45af-b0c9-15a745048d78"
      },
      "source": [
        "train.fillna('0')\n",
        "train['Loan_Amount_Term'].isnull().sum()"
      ],
      "execution_count": null,
      "outputs": [
        {
          "output_type": "execute_result",
          "data": {
            "text/plain": [
              "0"
            ]
          },
          "metadata": {
            "tags": []
          },
          "execution_count": 120
        }
      ]
    },
    {
      "cell_type": "code",
      "metadata": {
        "id": "3FfAkmOb22VH",
        "colab": {
          "base_uri": "https://localhost:8080/",
          "height": 156
        },
        "outputId": "365a2de9-2094-4a9a-eab4-5e06abb42337"
      },
      "source": [
        "train['Credit_History'] = KNN(k=3).fit_transform(train[['Credit_History']])"
      ],
      "execution_count": null,
      "outputs": [
        {
          "output_type": "stream",
          "text": [
            "Imputing row 1/614 with 0 missing, elapsed time: 0.035\n",
            "Imputing row 101/614 with 0 missing, elapsed time: 0.035\n",
            "Imputing row 201/614 with 0 missing, elapsed time: 0.036\n",
            "Imputing row 301/614 with 0 missing, elapsed time: 0.036\n",
            "Imputing row 401/614 with 0 missing, elapsed time: 0.036\n",
            "Imputing row 501/614 with 0 missing, elapsed time: 0.037\n",
            "Imputing row 601/614 with 1 missing, elapsed time: 0.037\n",
            "[KNN] Warning: 50/614 still missing after imputation, replacing with 0\n"
          ],
          "name": "stdout"
        }
      ]
    },
    {
      "cell_type": "code",
      "metadata": {
        "id": "msT9yHZC3Q9F",
        "colab": {
          "base_uri": "https://localhost:8080/",
          "height": 34
        },
        "outputId": "cd786250-3506-4c76-a56c-bda57e780a39"
      },
      "source": [
        "train.fillna('0')\n",
        "train['Credit_History'].isnull().sum()"
      ],
      "execution_count": null,
      "outputs": [
        {
          "output_type": "execute_result",
          "data": {
            "text/plain": [
              "0"
            ]
          },
          "metadata": {
            "tags": []
          },
          "execution_count": 122
        }
      ]
    },
    {
      "cell_type": "code",
      "metadata": {
        "id": "uFHuOu4J0vyS",
        "colab": {
          "base_uri": "https://localhost:8080/",
          "height": 260
        },
        "outputId": "6b40524b-79f1-43ec-9c20-3a824ecc8c4a"
      },
      "source": [
        "train.isnull().sum()"
      ],
      "execution_count": null,
      "outputs": [
        {
          "output_type": "execute_result",
          "data": {
            "text/plain": [
              "Loan_ID              0\n",
              "Gender               0\n",
              "Married              0\n",
              "Dependents           0\n",
              "Education            0\n",
              "Self_Employed        0\n",
              "ApplicantIncome      0\n",
              "CoapplicantIncome    0\n",
              "LoanAmount           0\n",
              "Loan_Amount_Term     0\n",
              "Credit_History       0\n",
              "Property_Area        0\n",
              "Loan_Status          0\n",
              "dtype: int64"
            ]
          },
          "metadata": {
            "tags": []
          },
          "execution_count": 123
        }
      ]
    },
    {
      "cell_type": "markdown",
      "metadata": {
        "id": "93iwC-St_QKg"
      },
      "source": [
        "#TESTING DATA PRE-PROCESSING"
      ]
    },
    {
      "cell_type": "code",
      "metadata": {
        "id": "R1za1Yrx_QKi",
        "colab": {
          "base_uri": "https://localhost:8080/",
          "height": 242
        },
        "outputId": "8a5a089e-664b-4b99-86d7-61845c3716d0"
      },
      "source": [
        "#test.columns\n",
        "test.dtypes"
      ],
      "execution_count": null,
      "outputs": [
        {
          "output_type": "execute_result",
          "data": {
            "text/plain": [
              "Loan_ID               object\n",
              "Gender                object\n",
              "Married               object\n",
              "Dependents            object\n",
              "Education             object\n",
              "Self_Employed         object\n",
              "ApplicantIncome        int64\n",
              "CoapplicantIncome      int64\n",
              "LoanAmount           float64\n",
              "Loan_Amount_Term     float64\n",
              "Credit_History       float64\n",
              "Property_Area         object\n",
              "dtype: object"
            ]
          },
          "metadata": {
            "tags": []
          },
          "execution_count": 124
        }
      ]
    },
    {
      "cell_type": "markdown",
      "metadata": {
        "id": "tX23cKa9_QKm"
      },
      "source": [
        "###VALUE_COUNTS of CATEGORICAL FEATURES"
      ]
    },
    {
      "cell_type": "code",
      "metadata": {
        "id": "Hin38V3t_QKm",
        "colab": {
          "base_uri": "https://localhost:8080/",
          "height": 485
        },
        "outputId": "c7ae9c3d-831c-4bd9-a0fa-4728e2f9c03b"
      },
      "source": [
        "print(test['Gender'].value_counts(), \"\\n\")\n",
        "print(test['Married'].value_counts(), \"\\n\")\n",
        "print(test['Dependents'].value_counts(), \"\\n\")\n",
        "print(test['Education'].value_counts(), \"\\n\")\n",
        "print(test['Self_Employed'].value_counts(), \"\\n\")\n",
        "#print(test['Loan_Status'].value_counts(), \"\\n\")\n",
        "print(test['Property_Area'].value_counts(), \"\\n\")"
      ],
      "execution_count": null,
      "outputs": [
        {
          "output_type": "stream",
          "text": [
            "Male      286\n",
            "Female     70\n",
            "Name: Gender, dtype: int64 \n",
            "\n",
            "Yes    233\n",
            "No     134\n",
            "Name: Married, dtype: int64 \n",
            "\n",
            "0     200\n",
            "2      59\n",
            "1      58\n",
            "3+     40\n",
            "Name: Dependents, dtype: int64 \n",
            "\n",
            "Graduate        283\n",
            "Not Graduate     84\n",
            "Name: Education, dtype: int64 \n",
            "\n",
            "No     307\n",
            "Yes     37\n",
            "Name: Self_Employed, dtype: int64 \n",
            "\n",
            "Urban        140\n",
            "Semiurban    116\n",
            "Rural        111\n",
            "Name: Property_Area, dtype: int64 \n",
            "\n"
          ],
          "name": "stdout"
        }
      ]
    },
    {
      "cell_type": "markdown",
      "metadata": {
        "id": "51aR1DVe_QKo"
      },
      "source": [
        "###CATEGORIAL ENCODING"
      ]
    },
    {
      "cell_type": "code",
      "metadata": {
        "id": "n5XRSoFY_QKp",
        "colab": {
          "base_uri": "https://localhost:8080/",
          "height": 202
        },
        "outputId": "312f95eb-71af-43f7-cb78-fb4372aced6b"
      },
      "source": [
        "#data['diagnosis'] = data['diagnosis'].apply(lambda x: '1' if x == 'M' else '0')\n",
        "\n",
        "test['Gender'].replace(['Male', 'Female'], [0, 1], inplace=True)\n",
        "test['Married'].replace(['No', 'Yes'], [0, 1], inplace=True)\n",
        "test['Self_Employed'].replace(['Yes', 'No'], [1, 0], inplace=True)#\n",
        "#test['Loan_Status'].replace(['N', 'Y'], [0, 1], inplace=True)\n",
        "test['Dependents'].replace(['3+'], [3], inplace=True)\n",
        "test['Education'].replace(['Graduate', 'Not Graduate'], [1, 0], inplace=True)\n",
        "test['Property_Area'].replace(['Semiurban', 'Urban', 'Rural'], [0, 1, 2], inplace=True)\n",
        "test.head()"
      ],
      "execution_count": null,
      "outputs": [
        {
          "output_type": "execute_result",
          "data": {
            "text/html": [
              "<div>\n",
              "<style scoped>\n",
              "    .dataframe tbody tr th:only-of-type {\n",
              "        vertical-align: middle;\n",
              "    }\n",
              "\n",
              "    .dataframe tbody tr th {\n",
              "        vertical-align: top;\n",
              "    }\n",
              "\n",
              "    .dataframe thead th {\n",
              "        text-align: right;\n",
              "    }\n",
              "</style>\n",
              "<table border=\"1\" class=\"dataframe\">\n",
              "  <thead>\n",
              "    <tr style=\"text-align: right;\">\n",
              "      <th></th>\n",
              "      <th>Loan_ID</th>\n",
              "      <th>Gender</th>\n",
              "      <th>Married</th>\n",
              "      <th>Dependents</th>\n",
              "      <th>Education</th>\n",
              "      <th>Self_Employed</th>\n",
              "      <th>ApplicantIncome</th>\n",
              "      <th>CoapplicantIncome</th>\n",
              "      <th>LoanAmount</th>\n",
              "      <th>Loan_Amount_Term</th>\n",
              "      <th>Credit_History</th>\n",
              "      <th>Property_Area</th>\n",
              "    </tr>\n",
              "  </thead>\n",
              "  <tbody>\n",
              "    <tr>\n",
              "      <th>0</th>\n",
              "      <td>LP001015</td>\n",
              "      <td>0.0</td>\n",
              "      <td>1</td>\n",
              "      <td>0</td>\n",
              "      <td>1</td>\n",
              "      <td>0.0</td>\n",
              "      <td>5720</td>\n",
              "      <td>0</td>\n",
              "      <td>110.0</td>\n",
              "      <td>360.0</td>\n",
              "      <td>1.0</td>\n",
              "      <td>1</td>\n",
              "    </tr>\n",
              "    <tr>\n",
              "      <th>1</th>\n",
              "      <td>LP001022</td>\n",
              "      <td>0.0</td>\n",
              "      <td>1</td>\n",
              "      <td>1</td>\n",
              "      <td>1</td>\n",
              "      <td>0.0</td>\n",
              "      <td>3076</td>\n",
              "      <td>1500</td>\n",
              "      <td>126.0</td>\n",
              "      <td>360.0</td>\n",
              "      <td>1.0</td>\n",
              "      <td>1</td>\n",
              "    </tr>\n",
              "    <tr>\n",
              "      <th>2</th>\n",
              "      <td>LP001031</td>\n",
              "      <td>0.0</td>\n",
              "      <td>1</td>\n",
              "      <td>2</td>\n",
              "      <td>1</td>\n",
              "      <td>0.0</td>\n",
              "      <td>5000</td>\n",
              "      <td>1800</td>\n",
              "      <td>208.0</td>\n",
              "      <td>360.0</td>\n",
              "      <td>1.0</td>\n",
              "      <td>1</td>\n",
              "    </tr>\n",
              "    <tr>\n",
              "      <th>3</th>\n",
              "      <td>LP001035</td>\n",
              "      <td>0.0</td>\n",
              "      <td>1</td>\n",
              "      <td>2</td>\n",
              "      <td>1</td>\n",
              "      <td>0.0</td>\n",
              "      <td>2340</td>\n",
              "      <td>2546</td>\n",
              "      <td>100.0</td>\n",
              "      <td>360.0</td>\n",
              "      <td>NaN</td>\n",
              "      <td>1</td>\n",
              "    </tr>\n",
              "    <tr>\n",
              "      <th>4</th>\n",
              "      <td>LP001051</td>\n",
              "      <td>0.0</td>\n",
              "      <td>0</td>\n",
              "      <td>0</td>\n",
              "      <td>0</td>\n",
              "      <td>0.0</td>\n",
              "      <td>3276</td>\n",
              "      <td>0</td>\n",
              "      <td>78.0</td>\n",
              "      <td>360.0</td>\n",
              "      <td>1.0</td>\n",
              "      <td>1</td>\n",
              "    </tr>\n",
              "  </tbody>\n",
              "</table>\n",
              "</div>"
            ],
            "text/plain": [
              "    Loan_ID  Gender  Married  ... Loan_Amount_Term  Credit_History  Property_Area\n",
              "0  LP001015     0.0        1  ...            360.0             1.0              1\n",
              "1  LP001022     0.0        1  ...            360.0             1.0              1\n",
              "2  LP001031     0.0        1  ...            360.0             1.0              1\n",
              "3  LP001035     0.0        1  ...            360.0             NaN              1\n",
              "4  LP001051     0.0        0  ...            360.0             1.0              1\n",
              "\n",
              "[5 rows x 12 columns]"
            ]
          },
          "metadata": {
            "tags": []
          },
          "execution_count": 126
        }
      ]
    },
    {
      "cell_type": "markdown",
      "metadata": {
        "id": "gxcmvNFO_QKr"
      },
      "source": [
        "###CHECKING VALUE_COUNTS of CATEGORICAL FEATURES"
      ]
    },
    {
      "cell_type": "code",
      "metadata": {
        "id": "F2-HREU8_QKr",
        "colab": {
          "base_uri": "https://localhost:8080/",
          "height": 485
        },
        "outputId": "b117a21c-d267-4e0b-df75-d9100545cfe4"
      },
      "source": [
        "print(test['Gender'].value_counts(), \"\\n\")\n",
        "print(test['Married'].value_counts(), \"\\n\")\n",
        "print(test['Dependents'].value_counts(), \"\\n\")\n",
        "print(test['Education'].value_counts(), \"\\n\")\n",
        "print(test['Self_Employed'].value_counts(), \"\\n\")\n",
        "#print(test['Loan_Status'].value_counts(), \"\\n\")\n",
        "print(test['Property_Area'].value_counts(), \"\\n\")"
      ],
      "execution_count": null,
      "outputs": [
        {
          "output_type": "stream",
          "text": [
            "0.0    286\n",
            "1.0     70\n",
            "Name: Gender, dtype: int64 \n",
            "\n",
            "1    233\n",
            "0    134\n",
            "Name: Married, dtype: int64 \n",
            "\n",
            "0    200\n",
            "2     59\n",
            "1     58\n",
            "3     40\n",
            "Name: Dependents, dtype: int64 \n",
            "\n",
            "1    283\n",
            "0     84\n",
            "Name: Education, dtype: int64 \n",
            "\n",
            "0.0    307\n",
            "1.0     37\n",
            "Name: Self_Employed, dtype: int64 \n",
            "\n",
            "1    140\n",
            "0    116\n",
            "2    111\n",
            "Name: Property_Area, dtype: int64 \n",
            "\n"
          ],
          "name": "stdout"
        }
      ]
    },
    {
      "cell_type": "markdown",
      "metadata": {
        "id": "hD2lI0RY_QKt"
      },
      "source": [
        "###CHECKING NULL VALUES"
      ]
    },
    {
      "cell_type": "code",
      "metadata": {
        "id": "8bfNsnKJ_QKu",
        "colab": {
          "base_uri": "https://localhost:8080/",
          "height": 242
        },
        "outputId": "4ab75c3c-45d7-4ebb-fc93-22945fcf7820"
      },
      "source": [
        "test.isnull().sum()"
      ],
      "execution_count": null,
      "outputs": [
        {
          "output_type": "execute_result",
          "data": {
            "text/plain": [
              "Loan_ID               0\n",
              "Gender               11\n",
              "Married               0\n",
              "Dependents           10\n",
              "Education             0\n",
              "Self_Employed        23\n",
              "ApplicantIncome       0\n",
              "CoapplicantIncome     0\n",
              "LoanAmount            5\n",
              "Loan_Amount_Term      6\n",
              "Credit_History       29\n",
              "Property_Area         0\n",
              "dtype: int64"
            ]
          },
          "metadata": {
            "tags": []
          },
          "execution_count": 128
        }
      ]
    },
    {
      "cell_type": "code",
      "metadata": {
        "id": "3LXU2xaJ_QKw"
      },
      "source": [
        "from fancyimpute import KNN  "
      ],
      "execution_count": null,
      "outputs": []
    },
    {
      "cell_type": "code",
      "metadata": {
        "id": "Z_bIK5NQ_QK0",
        "colab": {
          "base_uri": "https://localhost:8080/",
          "height": 104
        },
        "outputId": "da0b0423-73c0-4ee2-8592-1d5b132868d5"
      },
      "source": [
        "test['Gender'] = KNN(k=3).fit_transform(test[['Gender']])"
      ],
      "execution_count": null,
      "outputs": [
        {
          "output_type": "stream",
          "text": [
            "Imputing row 1/367 with 0 missing, elapsed time: 0.021\n",
            "Imputing row 101/367 with 0 missing, elapsed time: 0.021\n",
            "Imputing row 201/367 with 0 missing, elapsed time: 0.022\n",
            "Imputing row 301/367 with 0 missing, elapsed time: 0.022\n",
            "[KNN] Warning: 11/367 still missing after imputation, replacing with 0\n"
          ],
          "name": "stdout"
        }
      ]
    },
    {
      "cell_type": "code",
      "metadata": {
        "id": "9dcTZeDN_QK2",
        "colab": {
          "base_uri": "https://localhost:8080/",
          "height": 34
        },
        "outputId": "be0b2c3c-efda-4712-dfc5-f35aeef83936"
      },
      "source": [
        "test.fillna('0')\n",
        "test['Gender'].isnull().sum()"
      ],
      "execution_count": null,
      "outputs": [
        {
          "output_type": "execute_result",
          "data": {
            "text/plain": [
              "0"
            ]
          },
          "metadata": {
            "tags": []
          },
          "execution_count": 131
        }
      ]
    },
    {
      "cell_type": "code",
      "metadata": {
        "id": "rBs36gZd_QK5",
        "colab": {
          "base_uri": "https://localhost:8080/",
          "height": 121
        },
        "outputId": "662592d5-3328-4167-81fc-6c431ce9da64"
      },
      "source": [
        "test['Married'] = KNN(k=3).fit_transform(test[['Married']])"
      ],
      "execution_count": null,
      "outputs": [
        {
          "output_type": "stream",
          "text": [
            "Imputing row 1/367 with 0 missing, elapsed time: 0.022\n",
            "Imputing row 101/367 with 0 missing, elapsed time: 0.022\n",
            "Imputing row 201/367 with 0 missing, elapsed time: 0.022\n",
            "Imputing row 301/367 with 0 missing, elapsed time: 0.023\n"
          ],
          "name": "stdout"
        },
        {
          "output_type": "stream",
          "text": [
            "/usr/local/lib/python3.6/dist-packages/fancyimpute/solver.py:58: UserWarning: Input matrix is not missing any values\n",
            "  warnings.warn(\"Input matrix is not missing any values\")\n"
          ],
          "name": "stderr"
        }
      ]
    },
    {
      "cell_type": "code",
      "metadata": {
        "id": "M4ndn0wT_QK8",
        "colab": {
          "base_uri": "https://localhost:8080/",
          "height": 34
        },
        "outputId": "e7caee1a-efb2-47c3-e14f-672b5c998157"
      },
      "source": [
        "test.fillna('0')\n",
        "test['Married'].isnull().sum()"
      ],
      "execution_count": null,
      "outputs": [
        {
          "output_type": "execute_result",
          "data": {
            "text/plain": [
              "0"
            ]
          },
          "metadata": {
            "tags": []
          },
          "execution_count": 133
        }
      ]
    },
    {
      "cell_type": "code",
      "metadata": {
        "id": "PxwPqjME_QK-",
        "colab": {
          "base_uri": "https://localhost:8080/",
          "height": 104
        },
        "outputId": "ab27b911-e6d5-459a-f246-a79142f41e04"
      },
      "source": [
        "test['Dependents'] = KNN(k=3).fit_transform(test[['Dependents']])"
      ],
      "execution_count": null,
      "outputs": [
        {
          "output_type": "stream",
          "text": [
            "Imputing row 1/367 with 0 missing, elapsed time: 0.017\n",
            "Imputing row 101/367 with 0 missing, elapsed time: 0.018\n",
            "Imputing row 201/367 with 0 missing, elapsed time: 0.018\n",
            "Imputing row 301/367 with 0 missing, elapsed time: 0.018\n",
            "[KNN] Warning: 10/367 still missing after imputation, replacing with 0\n"
          ],
          "name": "stdout"
        }
      ]
    },
    {
      "cell_type": "code",
      "metadata": {
        "id": "gcABHKOs_QLA",
        "colab": {
          "base_uri": "https://localhost:8080/",
          "height": 34
        },
        "outputId": "049ce358-9a6d-42f8-d6a9-a6869897c16d"
      },
      "source": [
        "test.fillna('0')\n",
        "test['Dependents'].isnull().sum()"
      ],
      "execution_count": null,
      "outputs": [
        {
          "output_type": "execute_result",
          "data": {
            "text/plain": [
              "0"
            ]
          },
          "metadata": {
            "tags": []
          },
          "execution_count": 135
        }
      ]
    },
    {
      "cell_type": "code",
      "metadata": {
        "id": "YYO-KB8M_QLD",
        "colab": {
          "base_uri": "https://localhost:8080/",
          "height": 104
        },
        "outputId": "aa0d33eb-fb8d-43c6-b7a4-c0cdc3624a81"
      },
      "source": [
        "test['Self_Employed'] = KNN(k=3).fit_transform(test[['Self_Employed']])"
      ],
      "execution_count": null,
      "outputs": [
        {
          "output_type": "stream",
          "text": [
            "Imputing row 1/367 with 0 missing, elapsed time: 0.017\n",
            "Imputing row 101/367 with 0 missing, elapsed time: 0.018\n",
            "Imputing row 201/367 with 0 missing, elapsed time: 0.018\n",
            "Imputing row 301/367 with 0 missing, elapsed time: 0.018\n",
            "[KNN] Warning: 23/367 still missing after imputation, replacing with 0\n"
          ],
          "name": "stdout"
        }
      ]
    },
    {
      "cell_type": "code",
      "metadata": {
        "id": "X1hxtNdN_QLF",
        "colab": {
          "base_uri": "https://localhost:8080/",
          "height": 34
        },
        "outputId": "1daa314e-c8bc-4517-db26-1c91051e319a"
      },
      "source": [
        "test.fillna('0')\n",
        "test['Self_Employed'].isnull().sum()"
      ],
      "execution_count": null,
      "outputs": [
        {
          "output_type": "execute_result",
          "data": {
            "text/plain": [
              "0"
            ]
          },
          "metadata": {
            "tags": []
          },
          "execution_count": 137
        }
      ]
    },
    {
      "cell_type": "code",
      "metadata": {
        "id": "3OY1Vdiv_QLI",
        "colab": {
          "base_uri": "https://localhost:8080/",
          "height": 104
        },
        "outputId": "a00f2803-952f-4c66-fc31-1d1504c366c0"
      },
      "source": [
        "test['LoanAmount'] = KNN(k=3).fit_transform(test[['LoanAmount']])"
      ],
      "execution_count": null,
      "outputs": [
        {
          "output_type": "stream",
          "text": [
            "Imputing row 1/367 with 0 missing, elapsed time: 0.025\n",
            "Imputing row 101/367 with 0 missing, elapsed time: 0.025\n",
            "Imputing row 201/367 with 0 missing, elapsed time: 0.025\n",
            "Imputing row 301/367 with 0 missing, elapsed time: 0.026\n",
            "[KNN] Warning: 5/367 still missing after imputation, replacing with 0\n"
          ],
          "name": "stdout"
        }
      ]
    },
    {
      "cell_type": "code",
      "metadata": {
        "id": "376scqD9_QLK",
        "colab": {
          "base_uri": "https://localhost:8080/",
          "height": 34
        },
        "outputId": "a4f6f31e-8ccc-4359-c9a1-ee488f2f375c"
      },
      "source": [
        "test.fillna('0')\n",
        "test['LoanAmount'].isnull().sum()"
      ],
      "execution_count": null,
      "outputs": [
        {
          "output_type": "execute_result",
          "data": {
            "text/plain": [
              "0"
            ]
          },
          "metadata": {
            "tags": []
          },
          "execution_count": 139
        }
      ]
    },
    {
      "cell_type": "code",
      "metadata": {
        "id": "3RZIl5pJ_QLM",
        "colab": {
          "base_uri": "https://localhost:8080/",
          "height": 104
        },
        "outputId": "84687ae9-2141-492d-bfaa-80448b8c552b"
      },
      "source": [
        "test['Loan_Amount_Term'] = KNN(k=3).fit_transform(test[['Loan_Amount_Term']])"
      ],
      "execution_count": null,
      "outputs": [
        {
          "output_type": "stream",
          "text": [
            "Imputing row 1/367 with 0 missing, elapsed time: 0.027\n",
            "Imputing row 101/367 with 0 missing, elapsed time: 0.028\n",
            "Imputing row 201/367 with 0 missing, elapsed time: 0.028\n",
            "Imputing row 301/367 with 0 missing, elapsed time: 0.029\n",
            "[KNN] Warning: 6/367 still missing after imputation, replacing with 0\n"
          ],
          "name": "stdout"
        }
      ]
    },
    {
      "cell_type": "code",
      "metadata": {
        "id": "JYdzh0Uh_QLN",
        "colab": {
          "base_uri": "https://localhost:8080/",
          "height": 34
        },
        "outputId": "84f78e3d-722f-4ba1-851a-0c9c010da7d3"
      },
      "source": [
        "test.fillna('0')\n",
        "test['Loan_Amount_Term'].isnull().sum()"
      ],
      "execution_count": null,
      "outputs": [
        {
          "output_type": "execute_result",
          "data": {
            "text/plain": [
              "0"
            ]
          },
          "metadata": {
            "tags": []
          },
          "execution_count": 141
        }
      ]
    },
    {
      "cell_type": "code",
      "metadata": {
        "id": "bKm7G_zF_QLP",
        "colab": {
          "base_uri": "https://localhost:8080/",
          "height": 104
        },
        "outputId": "1ed75e46-f47c-4c33-c882-38e5fbb35bbf"
      },
      "source": [
        "test['Credit_History'] = KNN(k=3).fit_transform(test[['Credit_History']])"
      ],
      "execution_count": null,
      "outputs": [
        {
          "output_type": "stream",
          "text": [
            "Imputing row 1/367 with 0 missing, elapsed time: 0.022\n",
            "Imputing row 101/367 with 0 missing, elapsed time: 0.023\n",
            "Imputing row 201/367 with 0 missing, elapsed time: 0.023\n",
            "Imputing row 301/367 with 0 missing, elapsed time: 0.023\n",
            "[KNN] Warning: 29/367 still missing after imputation, replacing with 0\n"
          ],
          "name": "stdout"
        }
      ]
    },
    {
      "cell_type": "code",
      "metadata": {
        "id": "1kdaxnhy_QLR",
        "colab": {
          "base_uri": "https://localhost:8080/",
          "height": 34
        },
        "outputId": "1d482b00-b848-4ce9-f4c3-32bbc8b0e787"
      },
      "source": [
        "test.fillna('0')\n",
        "test['Credit_History'].isnull().sum()"
      ],
      "execution_count": null,
      "outputs": [
        {
          "output_type": "execute_result",
          "data": {
            "text/plain": [
              "0"
            ]
          },
          "metadata": {
            "tags": []
          },
          "execution_count": 143
        }
      ]
    },
    {
      "cell_type": "code",
      "metadata": {
        "id": "3Uhmpuxe_QLU",
        "colab": {
          "base_uri": "https://localhost:8080/",
          "height": 242
        },
        "outputId": "cfc5c53b-481a-4d49-de60-cae8b71faf94"
      },
      "source": [
        "test.isnull().sum()"
      ],
      "execution_count": null,
      "outputs": [
        {
          "output_type": "execute_result",
          "data": {
            "text/plain": [
              "Loan_ID              0\n",
              "Gender               0\n",
              "Married              0\n",
              "Dependents           0\n",
              "Education            0\n",
              "Self_Employed        0\n",
              "ApplicantIncome      0\n",
              "CoapplicantIncome    0\n",
              "LoanAmount           0\n",
              "Loan_Amount_Term     0\n",
              "Credit_History       0\n",
              "Property_Area        0\n",
              "dtype: int64"
            ]
          },
          "metadata": {
            "tags": []
          },
          "execution_count": 144
        }
      ]
    },
    {
      "cell_type": "markdown",
      "metadata": {
        "id": "YRlbno5P9hdm"
      },
      "source": [
        "#DATA SPLITTING"
      ]
    },
    {
      "cell_type": "markdown",
      "metadata": {
        "id": "Cf_EXK5qJ6nk"
      },
      "source": [
        "TRAINING AND VALIDATION DATA"
      ]
    },
    {
      "cell_type": "code",
      "metadata": {
        "id": "a7FCY3nznPpc",
        "colab": {
          "base_uri": "https://localhost:8080/",
          "height": 69
        },
        "outputId": "ca5d98b2-f997-4c7f-e222-a6e5a8dc0309"
      },
      "source": [
        "print(train['Loan_Status'].value_counts())"
      ],
      "execution_count": null,
      "outputs": [
        {
          "output_type": "stream",
          "text": [
            "1    422\n",
            "0    192\n",
            "Name: Loan_Status, dtype: int64\n"
          ],
          "name": "stdout"
        }
      ]
    },
    {
      "cell_type": "code",
      "metadata": {
        "id": "-Qu8Eho5-EDl",
        "colab": {
          "base_uri": "https://localhost:8080/",
          "height": 233
        },
        "outputId": "22451cea-4584-4824-8b6d-d4256f73a4a2"
      },
      "source": [
        "train = train.set_index('Loan_ID')\n",
        "test = test.set_index('Loan_ID')\n",
        "train.head()"
      ],
      "execution_count": null,
      "outputs": [
        {
          "output_type": "execute_result",
          "data": {
            "text/html": [
              "<div>\n",
              "<style scoped>\n",
              "    .dataframe tbody tr th:only-of-type {\n",
              "        vertical-align: middle;\n",
              "    }\n",
              "\n",
              "    .dataframe tbody tr th {\n",
              "        vertical-align: top;\n",
              "    }\n",
              "\n",
              "    .dataframe thead th {\n",
              "        text-align: right;\n",
              "    }\n",
              "</style>\n",
              "<table border=\"1\" class=\"dataframe\">\n",
              "  <thead>\n",
              "    <tr style=\"text-align: right;\">\n",
              "      <th></th>\n",
              "      <th>Gender</th>\n",
              "      <th>Married</th>\n",
              "      <th>Dependents</th>\n",
              "      <th>Education</th>\n",
              "      <th>Self_Employed</th>\n",
              "      <th>ApplicantIncome</th>\n",
              "      <th>CoapplicantIncome</th>\n",
              "      <th>LoanAmount</th>\n",
              "      <th>Loan_Amount_Term</th>\n",
              "      <th>Credit_History</th>\n",
              "      <th>Property_Area</th>\n",
              "      <th>Loan_Status</th>\n",
              "    </tr>\n",
              "    <tr>\n",
              "      <th>Loan_ID</th>\n",
              "      <th></th>\n",
              "      <th></th>\n",
              "      <th></th>\n",
              "      <th></th>\n",
              "      <th></th>\n",
              "      <th></th>\n",
              "      <th></th>\n",
              "      <th></th>\n",
              "      <th></th>\n",
              "      <th></th>\n",
              "      <th></th>\n",
              "      <th></th>\n",
              "    </tr>\n",
              "  </thead>\n",
              "  <tbody>\n",
              "    <tr>\n",
              "      <th>LP001002</th>\n",
              "      <td>0.0</td>\n",
              "      <td>0.0</td>\n",
              "      <td>0.0</td>\n",
              "      <td>1</td>\n",
              "      <td>0.0</td>\n",
              "      <td>5849</td>\n",
              "      <td>0.0</td>\n",
              "      <td>0.0</td>\n",
              "      <td>360.0</td>\n",
              "      <td>1.0</td>\n",
              "      <td>1</td>\n",
              "      <td>1</td>\n",
              "    </tr>\n",
              "    <tr>\n",
              "      <th>LP001003</th>\n",
              "      <td>0.0</td>\n",
              "      <td>1.0</td>\n",
              "      <td>1.0</td>\n",
              "      <td>1</td>\n",
              "      <td>0.0</td>\n",
              "      <td>4583</td>\n",
              "      <td>1508.0</td>\n",
              "      <td>128.0</td>\n",
              "      <td>360.0</td>\n",
              "      <td>1.0</td>\n",
              "      <td>2</td>\n",
              "      <td>0</td>\n",
              "    </tr>\n",
              "    <tr>\n",
              "      <th>LP001005</th>\n",
              "      <td>0.0</td>\n",
              "      <td>1.0</td>\n",
              "      <td>0.0</td>\n",
              "      <td>1</td>\n",
              "      <td>1.0</td>\n",
              "      <td>3000</td>\n",
              "      <td>0.0</td>\n",
              "      <td>66.0</td>\n",
              "      <td>360.0</td>\n",
              "      <td>1.0</td>\n",
              "      <td>1</td>\n",
              "      <td>1</td>\n",
              "    </tr>\n",
              "    <tr>\n",
              "      <th>LP001006</th>\n",
              "      <td>0.0</td>\n",
              "      <td>1.0</td>\n",
              "      <td>0.0</td>\n",
              "      <td>0</td>\n",
              "      <td>0.0</td>\n",
              "      <td>2583</td>\n",
              "      <td>2358.0</td>\n",
              "      <td>120.0</td>\n",
              "      <td>360.0</td>\n",
              "      <td>1.0</td>\n",
              "      <td>1</td>\n",
              "      <td>1</td>\n",
              "    </tr>\n",
              "    <tr>\n",
              "      <th>LP001008</th>\n",
              "      <td>0.0</td>\n",
              "      <td>0.0</td>\n",
              "      <td>0.0</td>\n",
              "      <td>1</td>\n",
              "      <td>0.0</td>\n",
              "      <td>6000</td>\n",
              "      <td>0.0</td>\n",
              "      <td>141.0</td>\n",
              "      <td>360.0</td>\n",
              "      <td>1.0</td>\n",
              "      <td>1</td>\n",
              "      <td>1</td>\n",
              "    </tr>\n",
              "  </tbody>\n",
              "</table>\n",
              "</div>"
            ],
            "text/plain": [
              "          Gender  Married  ...  Property_Area  Loan_Status\n",
              "Loan_ID                    ...                            \n",
              "LP001002     0.0      0.0  ...              1            1\n",
              "LP001003     0.0      1.0  ...              2            0\n",
              "LP001005     0.0      1.0  ...              1            1\n",
              "LP001006     0.0      1.0  ...              1            1\n",
              "LP001008     0.0      0.0  ...              1            1\n",
              "\n",
              "[5 rows x 12 columns]"
            ]
          },
          "metadata": {
            "tags": []
          },
          "execution_count": 146
        }
      ]
    },
    {
      "cell_type": "code",
      "metadata": {
        "id": "pRU96SgU-EEB"
      },
      "source": [
        "Y = train['Loan_Status'].values\n",
        "X = train.drop('Loan_Status', axis=1).values\n",
        "\n",
        "X_train, X_test, Y_train, Y_test = train_test_split (X, Y, test_size = 0.20, random_state=21)"
      ],
      "execution_count": null,
      "outputs": []
    },
    {
      "cell_type": "code",
      "metadata": {
        "id": "IocADn1U9hdq",
        "colab": {
          "base_uri": "https://localhost:8080/",
          "height": 34
        },
        "outputId": "6bab8906-f877-4680-cd3a-5de16caedf4d"
      },
      "source": [
        "print(\"X_train.shape: \",X_train.shape, \"X_test.shape: \",X_test.shape,\"Y_train.shape: \", Y_train.shape, \"Y_test.shape: \",Y_test.shape)"
      ],
      "execution_count": null,
      "outputs": [
        {
          "output_type": "stream",
          "text": [
            "X_train.shape:  (491, 11) X_test.shape:  (123, 11) Y_train.shape:  (491,) Y_test.shape:  (123,)\n"
          ],
          "name": "stdout"
        }
      ]
    },
    {
      "cell_type": "code",
      "metadata": {
        "id": "GZecM1Sf-IO1",
        "colab": {
          "base_uri": "https://localhost:8080/",
          "height": 658
        },
        "outputId": "e1abf42d-4965-4275-d251-6e0f88c002df"
      },
      "source": [
        "import statsmodels.api as sm\n",
        "X_Opt = np.append(arr = np.ones((X_train.shape[0], 1)), values = X_train, axis = 1)\n",
        "regressor_OLS = sm.OLS(Y_train, X_Opt).fit()\n",
        "print(regressor_OLS.summary())"
      ],
      "execution_count": null,
      "outputs": [
        {
          "output_type": "stream",
          "text": [
            "                            OLS Regression Results                            \n",
            "==============================================================================\n",
            "Dep. Variable:                      y   R-squared:                       0.230\n",
            "Model:                            OLS   Adj. R-squared:                  0.212\n",
            "Method:                 Least Squares   F-statistic:                     12.98\n",
            "Date:                Tue, 09 Jun 2020   Prob (F-statistic):           1.08e-21\n",
            "Time:                        21:48:53   Log-Likelihood:                -255.61\n",
            "No. Observations:                 491   AIC:                             535.2\n",
            "Df Residuals:                     479   BIC:                             585.6\n",
            "Df Model:                          11                                         \n",
            "Covariance Type:            nonrobust                                         \n",
            "==============================================================================\n",
            "                 coef    std err          t      P>|t|      [0.025      0.975]\n",
            "------------------------------------------------------------------------------\n",
            "const          0.2324      0.100      2.323      0.021       0.036       0.429\n",
            "x1             0.0358      0.052      0.689      0.491      -0.066       0.138\n",
            "x2             0.1440      0.045      3.222      0.001       0.056       0.232\n",
            "x3            -0.0026      0.020     -0.132      0.895      -0.041       0.036\n",
            "x4             0.0815      0.048      1.703      0.089      -0.013       0.176\n",
            "x5             0.0155      0.057      0.272      0.786      -0.096       0.127\n",
            "x6          -1.71e-06   3.82e-06     -0.448      0.654   -9.21e-06    5.79e-06\n",
            "x7         -5.444e-06   6.29e-06     -0.866      0.387   -1.78e-05    6.91e-06\n",
            "x8            -0.0002      0.000     -0.558      0.577      -0.001       0.000\n",
            "x9          4.342e-05      0.000      0.195      0.845      -0.000       0.000\n",
            "x10            0.4790      0.046     10.505      0.000       0.389       0.569\n",
            "x11           -0.0657      0.023     -2.806      0.005      -0.112      -0.020\n",
            "==============================================================================\n",
            "Omnibus:                       36.625   Durbin-Watson:                   1.882\n",
            "Prob(Omnibus):                  0.000   Jarque-Bera (JB):               42.356\n",
            "Skew:                          -0.703   Prob(JB):                     6.35e-10\n",
            "Kurtosis:                       2.695   Cond. No.                     4.45e+04\n",
            "==============================================================================\n",
            "\n",
            "Warnings:\n",
            "[1] Standard Errors assume that the covariance matrix of the errors is correctly specified.\n",
            "[2] The condition number is large, 4.45e+04. This might indicate that there are\n",
            "strong multicollinearity or other numerical problems.\n"
          ],
          "name": "stdout"
        }
      ]
    },
    {
      "cell_type": "code",
      "metadata": {
        "id": "WyWko2S3okIQ",
        "colab": {
          "base_uri": "https://localhost:8080/",
          "height": 69
        },
        "outputId": "89607d79-b2ce-4ee2-f02e-dcf9731d5d07"
      },
      "source": [
        "smt = SMOTE()\n",
        "X_train, Y_train = smt.fit_sample(X_train, Y_train)\n",
        "print(np.bincount(Y_train))"
      ],
      "execution_count": null,
      "outputs": [
        {
          "output_type": "stream",
          "text": [
            "[337 337]\n"
          ],
          "name": "stdout"
        },
        {
          "output_type": "stream",
          "text": [
            "/usr/local/lib/python3.6/dist-packages/sklearn/utils/deprecation.py:87: FutureWarning: Function safe_indexing is deprecated; safe_indexing is deprecated in version 0.22 and will be removed in version 0.24.\n",
            "  warnings.warn(msg, category=FutureWarning)\n"
          ],
          "name": "stderr"
        }
      ]
    },
    {
      "cell_type": "markdown",
      "metadata": {
        "id": "dgwJmTVl8z6P"
      },
      "source": [
        "TESTING DATA"
      ]
    },
    {
      "cell_type": "code",
      "metadata": {
        "id": "rZOgMAkN80UL",
        "colab": {
          "base_uri": "https://localhost:8080/",
          "height": 34
        },
        "outputId": "bf627b75-945f-427d-d339-0a0e549d5523"
      },
      "source": [
        "XTest = test\n",
        "XTest.shape"
      ],
      "execution_count": null,
      "outputs": [
        {
          "output_type": "execute_result",
          "data": {
            "text/plain": [
              "(367, 11)"
            ]
          },
          "metadata": {
            "tags": []
          },
          "execution_count": 164
        }
      ]
    },
    {
      "cell_type": "code",
      "metadata": {
        "id": "dfDP4b46IIgJ",
        "colab": {
          "base_uri": "https://localhost:8080/",
          "height": 658
        },
        "outputId": "26216403-bba4-430f-8e68-e580360ca240"
      },
      "source": [
        "import statsmodels.api as sm\n",
        "X_Opt = np.append(arr = np.ones((X_test.shape[0], 1)), values = X_test, axis = 1)\n",
        "regressor_OLS = sm.OLS(Y_test, X_Opt).fit()\n",
        "print(regressor_OLS.summary())"
      ],
      "execution_count": null,
      "outputs": [
        {
          "output_type": "stream",
          "text": [
            "                            OLS Regression Results                            \n",
            "==============================================================================\n",
            "Dep. Variable:                      y   R-squared:                       0.231\n",
            "Model:                            OLS   Adj. R-squared:                  0.155\n",
            "Method:                 Least Squares   F-statistic:                     3.029\n",
            "Date:                Tue, 09 Jun 2020   Prob (F-statistic):            0.00143\n",
            "Time:                        21:48:59   Log-Likelihood:                -63.424\n",
            "No. Observations:                 123   AIC:                             150.8\n",
            "Df Residuals:                     111   BIC:                             184.6\n",
            "Df Model:                          11                                         \n",
            "Covariance Type:            nonrobust                                         \n",
            "==============================================================================\n",
            "                 coef    std err          t      P>|t|      [0.025      0.975]\n",
            "------------------------------------------------------------------------------\n",
            "const          0.8675      0.240      3.615      0.000       0.392       1.343\n",
            "x1            -0.0298      0.124     -0.241      0.810      -0.275       0.216\n",
            "x2            -0.0154      0.098     -0.157      0.875      -0.209       0.178\n",
            "x3            -0.0051      0.045     -0.113      0.910      -0.095       0.085\n",
            "x4            -0.0264      0.092     -0.285      0.776      -0.209       0.157\n",
            "x5            -0.0683      0.108     -0.633      0.528      -0.282       0.146\n",
            "x6         -7.386e-06   8.54e-06     -0.865      0.389   -2.43e-05    9.53e-06\n",
            "x7         -2.204e-05   2.75e-05     -0.802      0.424   -7.65e-05    3.24e-05\n",
            "x8             0.0008      0.001      1.318      0.190      -0.000       0.002\n",
            "x9            -0.0012      0.001     -2.058      0.042      -0.002   -4.58e-05\n",
            "x10            0.4292      0.095      4.506      0.000       0.240       0.618\n",
            "x11           -0.0655      0.049     -1.338      0.184      -0.163       0.032\n",
            "==============================================================================\n",
            "Omnibus:                       10.764   Durbin-Watson:                   2.210\n",
            "Prob(Omnibus):                  0.005   Jarque-Bera (JB):               11.655\n",
            "Skew:                          -0.729   Prob(JB):                      0.00295\n",
            "Kurtosis:                       2.611   Cond. No.                     5.84e+04\n",
            "==============================================================================\n",
            "\n",
            "Warnings:\n",
            "[1] Standard Errors assume that the covariance matrix of the errors is correctly specified.\n",
            "[2] The condition number is large, 5.84e+04. This might indicate that there are\n",
            "strong multicollinearity or other numerical problems.\n"
          ],
          "name": "stdout"
        }
      ]
    },
    {
      "cell_type": "markdown",
      "metadata": {
        "id": "Pzn-YoUq772k"
      },
      "source": [
        "#MODELLING"
      ]
    },
    {
      "cell_type": "markdown",
      "metadata": {
        "id": "cZJ-h-LSye6I"
      },
      "source": [
        "###ENSEMBLE MODELLING USING CROSS VALIDATION"
      ]
    },
    {
      "cell_type": "code",
      "metadata": {
        "id": "v5KMllIxxT5o"
      },
      "source": [
        "from sklearn.linear_model import LogisticRegression\n",
        "from sklearn.preprocessing import MinMaxScaler\n",
        "from sklearn.neural_network import MLPClassifier\n",
        "from sklearn.model_selection import GridSearchCV\n",
        "# prepare the model\n",
        "\"\"\"with warnings.catch_warnings():\n",
        "    warnings.simplefilter(\"ignore\")\n",
        "    scaler = StandardScaler().fit(X_train)\n",
        "X_train = scaler.transform(X_train)\"\"\"\n",
        "min_max_scaler = MinMaxScaler()\n",
        "X_train = min_max_scaler.fit_transform(X_train)\n",
        "\n",
        "parameters = {'solver': ['lbfgs'], 'max_iter': [1000,1100,1200,1300,1400,1500,1600,1700,1800,1900,2000 ], 'alpha': 10.0 ** -np.arange(1, 10), 'hidden_layer_sizes':np.arange(10, 15), 'random_state':[0,1,2,3,4,5,6,7,8,9]}\n",
        "#clf = GridSearchCV(MLPClassifier(), parameters, n_jobs=-1)\n",
        "#clf.fit(trainX, trainY)\n",
        "\n",
        "models_list = []\n",
        "models_list.append(('KNN', KNeighborsClassifier()))\n",
        "models_list.append(('NB', GaussianNB()))\n",
        "models_list.append(('DT', DecisionTreeClassifier(criterion='entropy')))\n",
        "models_list.append(('BAG', BaggingClassifier(DecisionTreeClassifier(), max_samples=0.5, max_features=0.5)))\n",
        "models_list.append(('ET', ExtraTreesClassifier(n_estimators=10, max_depth=None, min_samples_split=2)))\n",
        "models_list.append(('RF', RandomForestClassifier(criterion='entropy')))\n",
        "models_list.append(('LogR', LogisticRegression(max_iter=100)))\n",
        "models_list.append(('GB', GradientBoostingClassifier(n_estimators=100, learning_rate=1.0, max_depth=1)))\n",
        "models_list.append(('XGB', XGBClassifier(n_estimators=1000, learning_rate=0.01, gamma=5, subsample=0.5)))\n",
        "models_list.append(('ADB', AdaBoostClassifier()))\n",
        "models_list.append(('Grid', GridSearchCV(MLPClassifier(), parameters, n_jobs=-1)))\n",
        "#models_list.append(('CATB', CatBoostClassifier()))\n",
        "\n",
        "ACCURACY = {}\n",
        "EVALUATION = {}"
      ],
      "execution_count": null,
      "outputs": []
    },
    {
      "cell_type": "code",
      "metadata": {
        "id": "7wS-9xSgxTxl",
        "colab": {
          "base_uri": "https://localhost:8080/",
          "height": 294
        },
        "outputId": "5af16a22-2b6f-4c3d-db0f-01d6c67bfa8b"
      },
      "source": [
        "num_folds = 10\n",
        "results = []\n",
        "names = []\n",
        "\n",
        "for name, model in models_list:\n",
        "    kfold = StratifiedKFold(n_splits=num_folds, shuffle = True)\n",
        "    start = time.time()\n",
        "    cv_results = cross_val_score(model, X_train, Y_train, cv=kfold, scoring='accuracy')\n",
        "    end = time.time()\n",
        "    results.append(cv_results)\n",
        "    names.append(name)\n",
        "    print( \"%s: %f (%f) (run time: %f)\" % (name, cv_results.mean(), cv_results.std(), end-start))"
      ],
      "execution_count": null,
      "outputs": [
        {
          "output_type": "stream",
          "text": [
            "KNN: 0.761106 (0.050470) (run time: 0.054582)\n",
            "NB: 0.680992 (0.036939) (run time: 0.012606)\n",
            "DT: 0.774627 (0.051061) (run time: 0.046458)\n",
            "BAG: 0.786414 (0.038305) (run time: 0.190422)\n",
            "ET: 0.799451 (0.047188) (run time: 0.151357)\n",
            "RF: 0.820566 (0.048283) (run time: 2.120676)\n",
            "LogR: 0.724188 (0.045071) (run time: 0.072285)\n",
            "GB: 0.808648 (0.049770) (run time: 0.708125)\n",
            "XGB: 0.805597 (0.037572) (run time: 4.710002)\n",
            "ADB: 0.804017 (0.043443) (run time: 0.922682)\n"
          ],
          "name": "stdout"
        },
        {
          "output_type": "stream",
          "text": [
            "/usr/local/lib/python3.6/dist-packages/sklearn/neural_network/_multilayer_perceptron.py:470: ConvergenceWarning: lbfgs failed to converge (status=1):\n",
            "STOP: TOTAL NO. of ITERATIONS REACHED LIMIT.\n",
            "\n",
            "Increase the number of iterations (max_iter) or scale the data as shown in:\n",
            "    https://scikit-learn.org/stable/modules/preprocessing.html\n",
            "  self.n_iter_ = _check_optimize_result(\"lbfgs\", opt_res, self.max_iter)\n"
          ],
          "name": "stderr"
        }
      ]
    },
    {
      "cell_type": "code",
      "metadata": {
        "id": "qNeiWBJyxTvd"
      },
      "source": [
        "fig = plt.figure()\n",
        "fig.suptitle('Performance Comparison')\n",
        "ax = fig.add_subplot(111)\n",
        "plt.boxplot(results)\n",
        "ax.set_xticklabels(names)\n",
        "plt.show()"
      ],
      "execution_count": null,
      "outputs": []
    },
    {
      "cell_type": "markdown",
      "metadata": {
        "id": "XZF_bu1byp_7"
      },
      "source": [
        "PIPELINING"
      ]
    },
    {
      "cell_type": "code",
      "metadata": {
        "id": "NUhaIHb2xTth",
        "colab": {
          "base_uri": "https://localhost:8080/",
          "height": 208
        },
        "outputId": "c2cc5b56-aff8-4f3c-e833-5c8219c4347e"
      },
      "source": [
        "# Standardize the dataset\n",
        "pipelines = []\n",
        "\n",
        "pipelines.append(('ScaledKNN', Pipeline([('Scaler', StandardScaler()),('KNN', KNeighborsClassifier())])))\n",
        "pipelines.append(('ScaledNB', Pipeline([('Scaler', StandardScaler()),('LinearSVC', LinearSVC())])))\n",
        "pipelines.append(('ScaledNB', Pipeline([('Scaler', StandardScaler()),('NB', GaussianNB())])))\n",
        "pipelines.append(('ScaledDT', Pipeline([('Scaler', StandardScaler()),('DT', DecisionTreeClassifier(criterion='entropy'))])))\n",
        "pipelines.append(('ScaledBAG', Pipeline([('Scaler', StandardScaler()),('BAG', BaggingClassifier(DecisionTreeClassifier(), max_samples=0.5, max_features=0.5))])))\n",
        "pipelines.append(('ScaledET', Pipeline([('Scaler', StandardScaler()),('ET', ExtraTreesClassifier(n_estimators=10, max_depth=None, min_samples_split=2))])))\n",
        "pipelines.append(('ScaledRF', Pipeline([('Scaler', StandardScaler()),('RF', RandomForestClassifier(criterion='entropy'))])))\n",
        "pipelines.append(('ScaledGB', Pipeline([('Scaler', StandardScaler()),('GB', GradientBoostingClassifier(n_estimators=100, learning_rate=1.0, max_depth=1))])))\n",
        "pipelines.append(('ScaledXGB', Pipeline([('Scaler', StandardScaler()),('GB', XGBClassifier(n_estimators=100, learning_rate=0.08, gamma=0, subsample=0.75))])))\n",
        "pipelines.append(('ScaledADB', Pipeline([('Scaler', StandardScaler()),('ADB', AdaBoostClassifier())])))\n",
        "#pipelines.append(('ScaledCATB', Pipeline([('Scaler', StandardScaler()),('CATB', CatBoostClassifier())])))\n",
        "\n",
        "results = []\n",
        "names = []\n",
        "with warnings.catch_warnings():\n",
        "    warnings.simplefilter(\"ignore\")\n",
        "    kfold = StratifiedKFold(n_splits=num_folds, random_state=123)\n",
        "    for name, model in pipelines:\n",
        "        start = time.time()\n",
        "        cv_results = cross_val_score(model, X_train, Y_train, cv=kfold, scoring='accuracy')\n",
        "        end = time.time()\n",
        "        results.append(cv_results)\n",
        "        names.append(name)\n",
        "        print( \"%s: %f (%f) (run time: %f)\" % (name, cv_results.mean(), cv_results.std(), end-start))"
      ],
      "execution_count": null,
      "outputs": [
        {
          "output_type": "stream",
          "text": [
            "ScaledKNN: 0.770193 (0.067634) (run time: 0.065038)\n",
            "ScaledSVC: 0.788169 (0.056035) (run time: 0.174437)\n",
            "ScaledNB: 0.721313 (0.061699) (run time: 0.411410)\n",
            "ScaledNB: 0.683999 (0.040926) (run time: 0.022594)\n",
            "ScaledDT: 0.761765 (0.097120) (run time: 0.053809)\n",
            "ScaledBAG: 0.797278 (0.093751) (run time: 0.202593)\n",
            "ScaledET: 0.801888 (0.102029) (run time: 0.170972)\n",
            "ScaledRF: 0.825637 (0.103570) (run time: 2.140813)\n",
            "ScaledGB: 0.803600 (0.134115) (run time: 0.695776)\n",
            "ScaledXGB: 0.799078 (0.129744) (run time: 0.540302)\n",
            "ScaledADB: 0.790145 (0.118352) (run time: 0.942349)\n"
          ],
          "name": "stdout"
        }
      ]
    },
    {
      "cell_type": "code",
      "metadata": {
        "id": "IzzZxMIOyHAZ",
        "colab": {
          "base_uri": "https://localhost:8080/",
          "height": 294
        },
        "outputId": "84a30e19-dc10-4b2f-8584-02cae2d1a295"
      },
      "source": [
        "fig = plt.figure()\n",
        "fig.suptitle('Performance Comparison')\n",
        "ax = fig.add_subplot(111)\n",
        "plt.boxplot(results)\n",
        "ax.set_xticklabels(names)\n",
        "plt.show()"
      ],
      "execution_count": null,
      "outputs": [
        {
          "output_type": "display_data",
          "data": {
            "image/png": "[encoded data removed]",
            "text/plain": [
              "<Figure size 432x288 with 1 Axes>"
            ]
          },
          "metadata": {
            "tags": [],
            "needs_background": "light"
          }
        }
      ]
    },
    {
      "cell_type": "markdown",
      "metadata": {
        "id": "kBAicBswr9C9"
      },
      "source": [
        "#EVALUATION"
      ]
    },
    {
      "cell_type": "code",
      "metadata": {
        "id": "s4wfzemNr9R-"
      },
      "source": [
        "EVALUATION = pd.DataFrame(EVALUATION)\n",
        "EVALUATION"
      ],
      "execution_count": null,
      "outputs": []
    },
    {
      "cell_type": "code",
      "metadata": {
        "id": "Hy_p2w1oksZF"
      },
      "source": [
        "EVALUATION.astype('int64').dtypes\n",
        "EVALUATION.replace([0, 1], ['N', 'Y'], inplace = True)"
      ],
      "execution_count": null,
      "outputs": []
    },
    {
      "cell_type": "code",
      "metadata": {
        "id": "fwPBVRIJOCUb"
      },
      "source": [
        "#for i in range(0, len(EVALUATION.columns)):\n",
        "#  print(test.reset_index('Loan_ID')['Loan_ID'], EVALUATION[EVALUATION.columns[i]])"
      ],
      "execution_count": null,
      "outputs": []
    },
    {
      "cell_type": "code",
      "metadata": {
        "id": "8NLlYGLWSvQv"
      },
      "source": [
        "#for i in range(0, len(EVALUATION.columns)):\n",
        "#  pd.concat([pd.concat([test.reset_index('Loan_ID')['Loan_ID'], EVALUATION[EVALUATION.columns[i]]], axis = 1)], axis=1)\n",
        "  #pd.concat([pd.concat([test.reset_index('Loan_ID')['Loan_ID'], EVALUATION[EVALUATION.columns[i]]], axis = 1)], axis=1).to_csv(str('LP' + str(i) + '.csv'), header=False, index=False) \n",
        "#  pd.concat([pd.concat([test.reset_index('Loan_ID')['Loan_ID'], EVALUATION[EVALUATION.columns[i]]], axis = 1)], axis=1).to_csv('drive/My Drive/AnalyticsVidyaHackathon/LoanPrediction/'+str(EVALUATION.columns[i] + '.csv'))"
      ],
      "execution_count": null,
      "outputs": []
    },
    {
      "cell_type": "code",
      "metadata": {
        "id": "C0VE_237tLVr"
      },
      "source": [
        ""
      ],
      "execution_count": null,
      "outputs": []
    }
  ]
}